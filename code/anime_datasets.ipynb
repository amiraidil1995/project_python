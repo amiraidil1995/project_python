{
 "cells": [
  {
   "cell_type": "markdown",
   "id": "f1f967cf",
   "metadata": {},
   "source": [
    "\n",
    "![alt text][logo]\n",
    "\n",
    "[logo]: https://newslanded.com/wp-content/uploads/2020/07/The-15-Most-Powerful-Anime-Characters-Of-All-Time-scaled.jpg \"Anime Logo\"\n",
    "\n",
    "# Overview \n",
    "\n",
    "**Dataset retrieved from *https://www.kaggle.com/vishalmane109/anime-recommendations-database* (Anime Database for Recommendation system)**\n",
    "\n",
    "**This project is focusing about finding the new details of the anime after \n",
    "the modify of the dataset. The final results will be the details of specific \n",
    "columns that are implemented.**\n",
    "\n",
    "**The objective of the project includes of:**\n",
    "1. Cleaning the dataset that have null values in it.\n",
    "2. Visualize the data (histogram and bar)\n",
    "3. Creating a class based on dataframe\n",
    "4. Creating input that will give the details of the anime\n",
    "\n",
    "\n",
    "# Content\n",
    "\n",
    "**Anime_id** :Anime Id (as per myanimelist.net)\n",
    "\n",
    "**Title** : Name of anime\n",
    "\n",
    "**Genre** :Main genre\n",
    "\n",
    "**Synopsis** :Brief Discription\n",
    "\n",
    "**Type** :Type of anime\n",
    "\n",
    "**Producer** :Name of producer\n",
    "\n",
    "**Studio** :Name of studio\n",
    "\n",
    "**Rating** :Rating of anime (as per myanimelist.net)\n",
    "\n",
    "**ScoredBy** : Total no user scored given anime\n",
    "\n",
    "**Popularity** :Rank of anime based on popularity\n",
    "\n",
    "**Members** :No of members added given anime on their list\n",
    "\n",
    "**Episodes** :No. of episodes\n",
    "\n",
    "**Source** :Source of anime\n",
    "\n",
    "**Aired** :Release date and ending of anime\n",
    "\n",
    "**Link** :Describe of anime\n",
    "\n",
    "# Acknowledgements\n",
    "\n",
    "This dataset is a combination of 2 datasets\n",
    "\n",
    "https://docs.google.com/spreadsheets/d/1brguO5nGfXS-Fr1Xcf3pqPTQoBUPGLTYM_EMAA9yJFw/export?format=csv&id=1brguO5nGfXS-Fr1Xcf3pqPTQoBUPGLTYM_EMAA9yJFw&gid=0\n",
    "\n",
    "https://www.kaggle.com/CooperUnion/anime-recommendations-database"
   ]
  },
  {
   "cell_type": "code",
   "execution_count": 1,
   "id": "c9969e77",
   "metadata": {},
   "outputs": [],
   "source": [
    "import pandas as pd\n",
    "import matplotlib.pyplot as plt\n",
    "import numpy as np\n",
    "\n",
    "%matplotlib inline\n",
    "\n",
    "# change plotting colors per client request\n",
    "plt.style.use('ggplot')\n",
    "\n",
    "# Increase default figure and font sizes for easier viewing.\n",
    "plt.rcParams['figure.figsize'] = (10, 6)\n",
    "plt.rcParams['font.size'] = 14"
   ]
  },
  {
   "cell_type": "code",
   "execution_count": 2,
   "id": "4e34190a",
   "metadata": {},
   "outputs": [],
   "source": [
    "anim = pd.read_csv('../''data/''Anime_data.csv')"
   ]
  },
  {
   "cell_type": "code",
   "execution_count": 3,
   "id": "c22fbbff",
   "metadata": {},
   "outputs": [
    {
     "data": {
      "text/html": [
       "<div>\n",
       "<style scoped>\n",
       "    .dataframe tbody tr th:only-of-type {\n",
       "        vertical-align: middle;\n",
       "    }\n",
       "\n",
       "    .dataframe tbody tr th {\n",
       "        vertical-align: top;\n",
       "    }\n",
       "\n",
       "    .dataframe thead th {\n",
       "        text-align: right;\n",
       "    }\n",
       "</style>\n",
       "<table border=\"1\" class=\"dataframe\">\n",
       "  <thead>\n",
       "    <tr style=\"text-align: right;\">\n",
       "      <th></th>\n",
       "      <th>Anime_id</th>\n",
       "      <th>Title</th>\n",
       "      <th>Genre</th>\n",
       "      <th>Synopsis</th>\n",
       "      <th>Type</th>\n",
       "      <th>Producer</th>\n",
       "      <th>Studio</th>\n",
       "      <th>Rating</th>\n",
       "      <th>ScoredBy</th>\n",
       "      <th>Popularity</th>\n",
       "      <th>Members</th>\n",
       "      <th>Episodes</th>\n",
       "      <th>Source</th>\n",
       "      <th>Aired</th>\n",
       "      <th>Link</th>\n",
       "    </tr>\n",
       "  </thead>\n",
       "  <tbody>\n",
       "    <tr>\n",
       "      <th>0</th>\n",
       "      <td>1</td>\n",
       "      <td>Cowboy Bebop</td>\n",
       "      <td>['Action', 'Adventure', 'Comedy', 'Drama', 'Sc...</td>\n",
       "      <td>In the year 2071, humanity has colonized sever...</td>\n",
       "      <td>TV</td>\n",
       "      <td>['Bandai Visual']</td>\n",
       "      <td>['Sunrise']</td>\n",
       "      <td>8.81</td>\n",
       "      <td>363889.0</td>\n",
       "      <td>39.0</td>\n",
       "      <td>704490.0</td>\n",
       "      <td>26.0</td>\n",
       "      <td>Original</td>\n",
       "      <td>Apr 3, 1998 to Apr 24, 1999</td>\n",
       "      <td>https://myanimelist.net/anime/1/Cowboy_Bebop</td>\n",
       "    </tr>\n",
       "    <tr>\n",
       "      <th>1</th>\n",
       "      <td>5</td>\n",
       "      <td>Cowboy Bebop: Tengoku no Tobira</td>\n",
       "      <td>['Action', 'Space', 'Drama', 'Mystery', 'Sci-Fi']</td>\n",
       "      <td>Another day, another bounty—such is the life o...</td>\n",
       "      <td>Movie</td>\n",
       "      <td>['Sunrise', 'Bandai Visual']</td>\n",
       "      <td>['Bones']</td>\n",
       "      <td>8.41</td>\n",
       "      <td>111187.0</td>\n",
       "      <td>475.0</td>\n",
       "      <td>179899.0</td>\n",
       "      <td>1.0</td>\n",
       "      <td>Original</td>\n",
       "      <td>Sep 1, 2001</td>\n",
       "      <td>https://myanimelist.net/anime/5/Cowboy_Bebop__...</td>\n",
       "    </tr>\n",
       "    <tr>\n",
       "      <th>2</th>\n",
       "      <td>6</td>\n",
       "      <td>Trigun</td>\n",
       "      <td>['Action', 'Sci-Fi', 'Adventure', 'Comedy', 'D...</td>\n",
       "      <td>Vash the Stampede is the man with a $$60,000,0...</td>\n",
       "      <td>TV</td>\n",
       "      <td>['Victor Entertainment']</td>\n",
       "      <td>['Madhouse']</td>\n",
       "      <td>8.31</td>\n",
       "      <td>197451.0</td>\n",
       "      <td>158.0</td>\n",
       "      <td>372709.0</td>\n",
       "      <td>26.0</td>\n",
       "      <td>Manga</td>\n",
       "      <td>Apr 1, 1998 to Sep 30, 1998</td>\n",
       "      <td>https://myanimelist.net/anime/6/Trigun</td>\n",
       "    </tr>\n",
       "    <tr>\n",
       "      <th>3</th>\n",
       "      <td>7</td>\n",
       "      <td>Witch Hunter Robin</td>\n",
       "      <td>['Action', 'Magic', 'Police', 'Supernatural', ...</td>\n",
       "      <td>Witches are individuals with special powers li...</td>\n",
       "      <td>TV</td>\n",
       "      <td>['Bandai Visual']</td>\n",
       "      <td>['Sunrise']</td>\n",
       "      <td>7.34</td>\n",
       "      <td>31875.0</td>\n",
       "      <td>1278.0</td>\n",
       "      <td>74889.0</td>\n",
       "      <td>26.0</td>\n",
       "      <td>Original</td>\n",
       "      <td>Jul 2, 2002 to Dec 24, 2002</td>\n",
       "      <td>https://myanimelist.net/anime/7/Witch_Hunter_R...</td>\n",
       "    </tr>\n",
       "    <tr>\n",
       "      <th>4</th>\n",
       "      <td>8</td>\n",
       "      <td>Bouken Ou Beet</td>\n",
       "      <td>['Adventure', 'Fantasy', 'Shounen', 'Supernatu...</td>\n",
       "      <td>It is the dark century and the people are suff...</td>\n",
       "      <td>TV</td>\n",
       "      <td>NaN</td>\n",
       "      <td>['Toei Animation']</td>\n",
       "      <td>7.04</td>\n",
       "      <td>4757.0</td>\n",
       "      <td>3968.0</td>\n",
       "      <td>11247.0</td>\n",
       "      <td>52.0</td>\n",
       "      <td>Manga</td>\n",
       "      <td>Sep 30, 2004 to Sep 29, 2005</td>\n",
       "      <td>https://myanimelist.net/anime/8/Bouken_Ou_Beet</td>\n",
       "    </tr>\n",
       "  </tbody>\n",
       "</table>\n",
       "</div>"
      ],
      "text/plain": [
       "   Anime_id                            Title  \\\n",
       "0         1                     Cowboy Bebop   \n",
       "1         5  Cowboy Bebop: Tengoku no Tobira   \n",
       "2         6                           Trigun   \n",
       "3         7               Witch Hunter Robin   \n",
       "4         8                   Bouken Ou Beet   \n",
       "\n",
       "                                               Genre  \\\n",
       "0  ['Action', 'Adventure', 'Comedy', 'Drama', 'Sc...   \n",
       "1  ['Action', 'Space', 'Drama', 'Mystery', 'Sci-Fi']   \n",
       "2  ['Action', 'Sci-Fi', 'Adventure', 'Comedy', 'D...   \n",
       "3  ['Action', 'Magic', 'Police', 'Supernatural', ...   \n",
       "4  ['Adventure', 'Fantasy', 'Shounen', 'Supernatu...   \n",
       "\n",
       "                                            Synopsis   Type  \\\n",
       "0  In the year 2071, humanity has colonized sever...     TV   \n",
       "1  Another day, another bounty—such is the life o...  Movie   \n",
       "2  Vash the Stampede is the man with a $$60,000,0...     TV   \n",
       "3  Witches are individuals with special powers li...     TV   \n",
       "4  It is the dark century and the people are suff...     TV   \n",
       "\n",
       "                       Producer              Studio  Rating  ScoredBy  \\\n",
       "0             ['Bandai Visual']         ['Sunrise']    8.81  363889.0   \n",
       "1  ['Sunrise', 'Bandai Visual']           ['Bones']    8.41  111187.0   \n",
       "2      ['Victor Entertainment']        ['Madhouse']    8.31  197451.0   \n",
       "3             ['Bandai Visual']         ['Sunrise']    7.34   31875.0   \n",
       "4                           NaN  ['Toei Animation']    7.04    4757.0   \n",
       "\n",
       "   Popularity   Members  Episodes    Source                         Aired  \\\n",
       "0        39.0  704490.0      26.0  Original   Apr 3, 1998 to Apr 24, 1999   \n",
       "1       475.0  179899.0       1.0  Original                   Sep 1, 2001   \n",
       "2       158.0  372709.0      26.0     Manga   Apr 1, 1998 to Sep 30, 1998   \n",
       "3      1278.0   74889.0      26.0  Original   Jul 2, 2002 to Dec 24, 2002   \n",
       "4      3968.0   11247.0      52.0     Manga  Sep 30, 2004 to Sep 29, 2005   \n",
       "\n",
       "                                                Link  \n",
       "0       https://myanimelist.net/anime/1/Cowboy_Bebop  \n",
       "1  https://myanimelist.net/anime/5/Cowboy_Bebop__...  \n",
       "2             https://myanimelist.net/anime/6/Trigun  \n",
       "3  https://myanimelist.net/anime/7/Witch_Hunter_R...  \n",
       "4     https://myanimelist.net/anime/8/Bouken_Ou_Beet  "
      ]
     },
     "execution_count": 3,
     "metadata": {},
     "output_type": "execute_result"
    }
   ],
   "source": [
    "anim.head()"
   ]
  },
  {
   "cell_type": "code",
   "execution_count": 4,
   "id": "71a50d3d",
   "metadata": {},
   "outputs": [
    {
     "data": {
      "text/html": [
       "<div>\n",
       "<style scoped>\n",
       "    .dataframe tbody tr th:only-of-type {\n",
       "        vertical-align: middle;\n",
       "    }\n",
       "\n",
       "    .dataframe tbody tr th {\n",
       "        vertical-align: top;\n",
       "    }\n",
       "\n",
       "    .dataframe thead th {\n",
       "        text-align: right;\n",
       "    }\n",
       "</style>\n",
       "<table border=\"1\" class=\"dataframe\">\n",
       "  <thead>\n",
       "    <tr style=\"text-align: right;\">\n",
       "      <th></th>\n",
       "      <th>Anime_id</th>\n",
       "      <th>Title</th>\n",
       "      <th>Genre</th>\n",
       "      <th>Synopsis</th>\n",
       "      <th>Type</th>\n",
       "      <th>Producer</th>\n",
       "      <th>Studio</th>\n",
       "      <th>Rating</th>\n",
       "      <th>ScoredBy</th>\n",
       "      <th>Popularity</th>\n",
       "      <th>Members</th>\n",
       "      <th>Episodes</th>\n",
       "      <th>Source</th>\n",
       "      <th>Aired</th>\n",
       "      <th>Link</th>\n",
       "    </tr>\n",
       "  </thead>\n",
       "  <tbody>\n",
       "    <tr>\n",
       "      <th>16997</th>\n",
       "      <td>27499</td>\n",
       "      <td>Sore Ike! Anpanman: Anpanman to Kaizoku Lobster</td>\n",
       "      <td>NaN</td>\n",
       "      <td>NaN</td>\n",
       "      <td>Special</td>\n",
       "      <td>NaN</td>\n",
       "      <td>NaN</td>\n",
       "      <td>5.50</td>\n",
       "      <td>NaN</td>\n",
       "      <td>NaN</td>\n",
       "      <td>70.0</td>\n",
       "      <td>NaN</td>\n",
       "      <td>NaN</td>\n",
       "      <td>NaN</td>\n",
       "      <td>NaN</td>\n",
       "    </tr>\n",
       "    <tr>\n",
       "      <th>16998</th>\n",
       "      <td>12091</td>\n",
       "      <td>X Bomber</td>\n",
       "      <td>NaN</td>\n",
       "      <td>NaN</td>\n",
       "      <td>TV</td>\n",
       "      <td>NaN</td>\n",
       "      <td>NaN</td>\n",
       "      <td>5.94</td>\n",
       "      <td>NaN</td>\n",
       "      <td>NaN</td>\n",
       "      <td>199.0</td>\n",
       "      <td>NaN</td>\n",
       "      <td>NaN</td>\n",
       "      <td>NaN</td>\n",
       "      <td>NaN</td>\n",
       "    </tr>\n",
       "    <tr>\n",
       "      <th>16999</th>\n",
       "      <td>29133</td>\n",
       "      <td>X Bomber Pilot</td>\n",
       "      <td>NaN</td>\n",
       "      <td>NaN</td>\n",
       "      <td>Special</td>\n",
       "      <td>NaN</td>\n",
       "      <td>NaN</td>\n",
       "      <td>4.28</td>\n",
       "      <td>NaN</td>\n",
       "      <td>NaN</td>\n",
       "      <td>77.0</td>\n",
       "      <td>NaN</td>\n",
       "      <td>NaN</td>\n",
       "      <td>NaN</td>\n",
       "      <td>NaN</td>\n",
       "    </tr>\n",
       "    <tr>\n",
       "      <th>17000</th>\n",
       "      <td>34485</td>\n",
       "      <td>Ganko-chan</td>\n",
       "      <td>NaN</td>\n",
       "      <td>NaN</td>\n",
       "      <td>NaN</td>\n",
       "      <td>NaN</td>\n",
       "      <td>NaN</td>\n",
       "      <td>NaN</td>\n",
       "      <td>NaN</td>\n",
       "      <td>NaN</td>\n",
       "      <td>11.0</td>\n",
       "      <td>NaN</td>\n",
       "      <td>NaN</td>\n",
       "      <td>NaN</td>\n",
       "      <td>NaN</td>\n",
       "    </tr>\n",
       "    <tr>\n",
       "      <th>17001</th>\n",
       "      <td>32713</td>\n",
       "      <td>Original C-V-P Momoko</td>\n",
       "      <td>NaN</td>\n",
       "      <td>NaN</td>\n",
       "      <td>OVA</td>\n",
       "      <td>NaN</td>\n",
       "      <td>NaN</td>\n",
       "      <td>4.00</td>\n",
       "      <td>NaN</td>\n",
       "      <td>NaN</td>\n",
       "      <td>66.0</td>\n",
       "      <td>NaN</td>\n",
       "      <td>NaN</td>\n",
       "      <td>NaN</td>\n",
       "      <td>NaN</td>\n",
       "    </tr>\n",
       "  </tbody>\n",
       "</table>\n",
       "</div>"
      ],
      "text/plain": [
       "       Anime_id                                            Title Genre  \\\n",
       "16997     27499  Sore Ike! Anpanman: Anpanman to Kaizoku Lobster   NaN   \n",
       "16998     12091                                         X Bomber   NaN   \n",
       "16999     29133                                   X Bomber Pilot   NaN   \n",
       "17000     34485                                       Ganko-chan   NaN   \n",
       "17001     32713                            Original C-V-P Momoko   NaN   \n",
       "\n",
       "      Synopsis     Type Producer Studio  Rating  ScoredBy  Popularity  \\\n",
       "16997      NaN  Special      NaN    NaN    5.50       NaN         NaN   \n",
       "16998      NaN       TV      NaN    NaN    5.94       NaN         NaN   \n",
       "16999      NaN  Special      NaN    NaN    4.28       NaN         NaN   \n",
       "17000      NaN      NaN      NaN    NaN     NaN       NaN         NaN   \n",
       "17001      NaN      OVA      NaN    NaN    4.00       NaN         NaN   \n",
       "\n",
       "       Members  Episodes Source Aired Link  \n",
       "16997     70.0       NaN    NaN   NaN  NaN  \n",
       "16998    199.0       NaN    NaN   NaN  NaN  \n",
       "16999     77.0       NaN    NaN   NaN  NaN  \n",
       "17000     11.0       NaN    NaN   NaN  NaN  \n",
       "17001     66.0       NaN    NaN   NaN  NaN  "
      ]
     },
     "execution_count": 4,
     "metadata": {},
     "output_type": "execute_result"
    }
   ],
   "source": [
    "anim.tail()"
   ]
  },
  {
   "cell_type": "code",
   "execution_count": 5,
   "id": "31f9cfda",
   "metadata": {},
   "outputs": [
    {
     "data": {
      "text/plain": [
       "(17002, 15)"
      ]
     },
     "execution_count": 5,
     "metadata": {},
     "output_type": "execute_result"
    }
   ],
   "source": [
    "anim.shape"
   ]
  },
  {
   "cell_type": "code",
   "execution_count": 6,
   "id": "e67c4d0d",
   "metadata": {},
   "outputs": [
    {
     "data": {
      "text/plain": [
       "Index(['Anime_id', 'Title', 'Genre', 'Synopsis', 'Type', 'Producer', 'Studio',\n",
       "       'Rating', 'ScoredBy', 'Popularity', 'Members', 'Episodes', 'Source',\n",
       "       'Aired', 'Link'],\n",
       "      dtype='object')"
      ]
     },
     "execution_count": 6,
     "metadata": {},
     "output_type": "execute_result"
    }
   ],
   "source": [
    "anim.columns"
   ]
  },
  {
   "cell_type": "code",
   "execution_count": 7,
   "id": "2d454654",
   "metadata": {},
   "outputs": [
    {
     "data": {
      "text/plain": [
       "Anime_id        int64\n",
       "Title          object\n",
       "Genre          object\n",
       "Synopsis       object\n",
       "Type           object\n",
       "Producer       object\n",
       "Studio         object\n",
       "Rating        float64\n",
       "ScoredBy      float64\n",
       "Popularity    float64\n",
       "Members       float64\n",
       "Episodes      float64\n",
       "Source         object\n",
       "Aired          object\n",
       "Link           object\n",
       "dtype: object"
      ]
     },
     "execution_count": 7,
     "metadata": {},
     "output_type": "execute_result"
    }
   ],
   "source": [
    "anim.dtypes"
   ]
  },
  {
   "cell_type": "markdown",
   "id": "94029b58",
   "metadata": {},
   "source": [
    "# Data Cleaning\n",
    "\n",
    "There is several columns that have **null** values\n"
   ]
  },
  {
   "cell_type": "code",
   "execution_count": 8,
   "id": "f9aa3949",
   "metadata": {},
   "outputs": [
    {
     "data": {
      "text/html": [
       "<div>\n",
       "<style scoped>\n",
       "    .dataframe tbody tr th:only-of-type {\n",
       "        vertical-align: middle;\n",
       "    }\n",
       "\n",
       "    .dataframe tbody tr th {\n",
       "        vertical-align: top;\n",
       "    }\n",
       "\n",
       "    .dataframe thead th {\n",
       "        text-align: right;\n",
       "    }\n",
       "</style>\n",
       "<table border=\"1\" class=\"dataframe\">\n",
       "  <thead>\n",
       "    <tr style=\"text-align: right;\">\n",
       "      <th></th>\n",
       "      <th>Count of Nulls</th>\n",
       "    </tr>\n",
       "    <tr>\n",
       "      <th>Column</th>\n",
       "      <th></th>\n",
       "    </tr>\n",
       "  </thead>\n",
       "  <tbody>\n",
       "    <tr>\n",
       "      <th>Producer</th>\n",
       "      <td>9367</td>\n",
       "    </tr>\n",
       "    <tr>\n",
       "      <th>Studio</th>\n",
       "      <td>9083</td>\n",
       "    </tr>\n",
       "    <tr>\n",
       "      <th>ScoredBy</th>\n",
       "      <td>3775</td>\n",
       "    </tr>\n",
       "    <tr>\n",
       "      <th>Episodes</th>\n",
       "      <td>2917</td>\n",
       "    </tr>\n",
       "    <tr>\n",
       "      <th>Rating</th>\n",
       "      <td>2577</td>\n",
       "    </tr>\n",
       "    <tr>\n",
       "      <th>Genre</th>\n",
       "      <td>2012</td>\n",
       "    </tr>\n",
       "    <tr>\n",
       "      <th>Source</th>\n",
       "      <td>1927</td>\n",
       "    </tr>\n",
       "    <tr>\n",
       "      <th>Synopsis</th>\n",
       "      <td>1419</td>\n",
       "    </tr>\n",
       "    <tr>\n",
       "      <th>Type</th>\n",
       "      <td>634</td>\n",
       "    </tr>\n",
       "    <tr>\n",
       "      <th>Popularity</th>\n",
       "      <td>634</td>\n",
       "    </tr>\n",
       "    <tr>\n",
       "      <th>Aired</th>\n",
       "      <td>634</td>\n",
       "    </tr>\n",
       "    <tr>\n",
       "      <th>Link</th>\n",
       "      <td>634</td>\n",
       "    </tr>\n",
       "    <tr>\n",
       "      <th>Anime_id</th>\n",
       "      <td>0</td>\n",
       "    </tr>\n",
       "    <tr>\n",
       "      <th>Title</th>\n",
       "      <td>0</td>\n",
       "    </tr>\n",
       "    <tr>\n",
       "      <th>Members</th>\n",
       "      <td>0</td>\n",
       "    </tr>\n",
       "  </tbody>\n",
       "</table>\n",
       "</div>"
      ],
      "text/plain": [
       "            Count of Nulls\n",
       "Column                    \n",
       "Producer              9367\n",
       "Studio                9083\n",
       "ScoredBy              3775\n",
       "Episodes              2917\n",
       "Rating                2577\n",
       "Genre                 2012\n",
       "Source                1927\n",
       "Synopsis              1419\n",
       "Type                   634\n",
       "Popularity             634\n",
       "Aired                  634\n",
       "Link                   634\n",
       "Anime_id                 0\n",
       "Title                    0\n",
       "Members                  0"
      ]
     },
     "execution_count": 8,
     "metadata": {},
     "output_type": "execute_result"
    }
   ],
   "source": [
    "null_df = pd.DataFrame(anim.isnull().sum(), columns=['Count of Nulls'])\n",
    "null_df.index.name = 'Column'\n",
    "null_df.sort_values(['Count of Nulls'], ascending=False)\n"
   ]
  },
  {
   "cell_type": "markdown",
   "id": "dad4f7ab",
   "metadata": {},
   "source": [
    "***HANDLING 'Producer' NULL VALUE***"
   ]
  },
  {
   "cell_type": "code",
   "execution_count": 9,
   "id": "64c27a24",
   "metadata": {},
   "outputs": [
    {
     "data": {
      "text/plain": [
       "Anime_id        int64\n",
       "Title          object\n",
       "Genre          object\n",
       "Synopsis       object\n",
       "Type           object\n",
       "Producer       object\n",
       "Studio         object\n",
       "Rating        float64\n",
       "ScoredBy      float64\n",
       "Popularity    float64\n",
       "Members       float64\n",
       "Episodes      float64\n",
       "Source         object\n",
       "Aired          object\n",
       "Link           object\n",
       "dtype: object"
      ]
     },
     "execution_count": 9,
     "metadata": {},
     "output_type": "execute_result"
    }
   ],
   "source": [
    "anim.dtypes"
   ]
  },
  {
   "cell_type": "code",
   "execution_count": 10,
   "id": "e38c5ba8",
   "metadata": {},
   "outputs": [],
   "source": [
    "# fill null values with [NoProducer]\n",
    "\n",
    "anim['Producer'].fillna(value='[NoProducer]', inplace = True)"
   ]
  },
  {
   "cell_type": "code",
   "execution_count": 11,
   "id": "e841fbea",
   "metadata": {},
   "outputs": [
    {
     "data": {
      "text/plain": [
       "0"
      ]
     },
     "execution_count": 11,
     "metadata": {},
     "output_type": "execute_result"
    }
   ],
   "source": [
    "anim['Producer'].isnull().sum()"
   ]
  },
  {
   "cell_type": "code",
   "execution_count": 12,
   "id": "a3ab8bee",
   "metadata": {},
   "outputs": [
    {
     "data": {
      "text/plain": [
       "dtype('O')"
      ]
     },
     "execution_count": 12,
     "metadata": {},
     "output_type": "execute_result"
    }
   ],
   "source": [
    "anim['Producer'].dtypes"
   ]
  },
  {
   "cell_type": "code",
   "execution_count": 13,
   "id": "54520852",
   "metadata": {},
   "outputs": [
    {
     "data": {
      "text/plain": [
       "16997    [NoProducer]\n",
       "16998    [NoProducer]\n",
       "16999    [NoProducer]\n",
       "17000    [NoProducer]\n",
       "17001    [NoProducer]\n",
       "Name: Producer, dtype: object"
      ]
     },
     "execution_count": 13,
     "metadata": {},
     "output_type": "execute_result"
    }
   ],
   "source": [
    "anim['Producer'].tail()"
   ]
  },
  {
   "cell_type": "markdown",
   "id": "bdf24c0b",
   "metadata": {},
   "source": [
    "***HANDLING 'Studio' NULL VALUE***"
   ]
  },
  {
   "cell_type": "code",
   "execution_count": 14,
   "id": "c02cfb07",
   "metadata": {},
   "outputs": [
    {
     "data": {
      "text/plain": [
       "Anime_id        int64\n",
       "Title          object\n",
       "Genre          object\n",
       "Synopsis       object\n",
       "Type           object\n",
       "Producer       object\n",
       "Studio         object\n",
       "Rating        float64\n",
       "ScoredBy      float64\n",
       "Popularity    float64\n",
       "Members       float64\n",
       "Episodes      float64\n",
       "Source         object\n",
       "Aired          object\n",
       "Link           object\n",
       "dtype: object"
      ]
     },
     "execution_count": 14,
     "metadata": {},
     "output_type": "execute_result"
    }
   ],
   "source": [
    "anim.dtypes"
   ]
  },
  {
   "cell_type": "code",
   "execution_count": 15,
   "id": "da762809",
   "metadata": {},
   "outputs": [],
   "source": [
    "# fill null values with [NoStudio]\n",
    "\n",
    "anim['Studio'].fillna(value='[NoStudio]', inplace = True)"
   ]
  },
  {
   "cell_type": "code",
   "execution_count": 16,
   "id": "e4002c0d",
   "metadata": {},
   "outputs": [
    {
     "data": {
      "text/plain": [
       "0"
      ]
     },
     "execution_count": 16,
     "metadata": {},
     "output_type": "execute_result"
    }
   ],
   "source": [
    "anim['Studio'].isnull().sum()"
   ]
  },
  {
   "cell_type": "code",
   "execution_count": 17,
   "id": "ea7de313",
   "metadata": {},
   "outputs": [
    {
     "data": {
      "text/plain": [
       "dtype('O')"
      ]
     },
     "execution_count": 17,
     "metadata": {},
     "output_type": "execute_result"
    }
   ],
   "source": [
    "anim['Studio'].dtypes"
   ]
  },
  {
   "cell_type": "code",
   "execution_count": 18,
   "id": "b4d8aef4",
   "metadata": {},
   "outputs": [
    {
     "data": {
      "text/plain": [
       "16997    [NoStudio]\n",
       "16998    [NoStudio]\n",
       "16999    [NoStudio]\n",
       "17000    [NoStudio]\n",
       "17001    [NoStudio]\n",
       "Name: Studio, dtype: object"
      ]
     },
     "execution_count": 18,
     "metadata": {},
     "output_type": "execute_result"
    }
   ],
   "source": [
    "anim['Studio'].tail()"
   ]
  },
  {
   "cell_type": "markdown",
   "id": "553331e0",
   "metadata": {},
   "source": [
    "***HANDLING 'ScoredBy' NULL VALUE***"
   ]
  },
  {
   "cell_type": "code",
   "execution_count": 19,
   "id": "370cd92c",
   "metadata": {},
   "outputs": [
    {
     "data": {
      "text/plain": [
       "Anime_id        int64\n",
       "Title          object\n",
       "Genre          object\n",
       "Synopsis       object\n",
       "Type           object\n",
       "Producer       object\n",
       "Studio         object\n",
       "Rating        float64\n",
       "ScoredBy      float64\n",
       "Popularity    float64\n",
       "Members       float64\n",
       "Episodes      float64\n",
       "Source         object\n",
       "Aired          object\n",
       "Link           object\n",
       "dtype: object"
      ]
     },
     "execution_count": 19,
     "metadata": {},
     "output_type": "execute_result"
    }
   ],
   "source": [
    "anim.dtypes"
   ]
  },
  {
   "cell_type": "code",
   "execution_count": 20,
   "id": "e009622f",
   "metadata": {},
   "outputs": [
    {
     "data": {
      "text/plain": [
       "8941.636676557864"
      ]
     },
     "execution_count": 20,
     "metadata": {},
     "output_type": "execute_result"
    }
   ],
   "source": [
    "# To fill the NaN value with the average of ScoredBy / unique number of Anime_id \n",
    "\n",
    "fill_Scoredby = anim['ScoredBy'].sum()/anim['Anime_id'].nunique()\n",
    "fill_Scoredby"
   ]
  },
  {
   "cell_type": "code",
   "execution_count": 21,
   "id": "22630b1a",
   "metadata": {},
   "outputs": [],
   "source": [
    "# round the decimal: round() or \"%.2f\" % 'the dtypes will be object'\n",
    "\n",
    "fill_Scoredby = round(fill_Scoredby,0)"
   ]
  },
  {
   "cell_type": "code",
   "execution_count": 22,
   "id": "4b3fa427",
   "metadata": {},
   "outputs": [
    {
     "data": {
      "text/plain": [
       "8942.0"
      ]
     },
     "execution_count": 22,
     "metadata": {},
     "output_type": "execute_result"
    }
   ],
   "source": [
    "fill_Scoredby"
   ]
  },
  {
   "cell_type": "code",
   "execution_count": 23,
   "id": "c3a428df",
   "metadata": {},
   "outputs": [],
   "source": [
    "# fill null values with average of ScoredBy\n",
    "\n",
    "anim.fillna(value={'ScoredBy':fill_Scoredby}, inplace = True)"
   ]
  },
  {
   "cell_type": "code",
   "execution_count": 24,
   "id": "26ffabf6",
   "metadata": {},
   "outputs": [
    {
     "data": {
      "text/plain": [
       "0"
      ]
     },
     "execution_count": 24,
     "metadata": {},
     "output_type": "execute_result"
    }
   ],
   "source": [
    "anim['ScoredBy'].isnull().sum()"
   ]
  },
  {
   "cell_type": "code",
   "execution_count": 25,
   "id": "fd0395f1",
   "metadata": {},
   "outputs": [
    {
     "data": {
      "text/plain": [
       "dtype('float64')"
      ]
     },
     "execution_count": 25,
     "metadata": {},
     "output_type": "execute_result"
    }
   ],
   "source": [
    "anim['ScoredBy'].dtypes"
   ]
  },
  {
   "cell_type": "code",
   "execution_count": 26,
   "id": "96dad89a",
   "metadata": {},
   "outputs": [
    {
     "data": {
      "text/plain": [
       "16997    8942.0\n",
       "16998    8942.0\n",
       "16999    8942.0\n",
       "17000    8942.0\n",
       "17001    8942.0\n",
       "Name: ScoredBy, dtype: float64"
      ]
     },
     "execution_count": 26,
     "metadata": {},
     "output_type": "execute_result"
    }
   ],
   "source": [
    "anim['ScoredBy'].tail()"
   ]
  },
  {
   "cell_type": "markdown",
   "id": "f675c8a0",
   "metadata": {},
   "source": [
    "***HANDLING 'Episodes' NULL VALUE***"
   ]
  },
  {
   "cell_type": "code",
   "execution_count": 27,
   "id": "20d5e70f",
   "metadata": {},
   "outputs": [
    {
     "data": {
      "text/plain": [
       "Anime_id        int64\n",
       "Title          object\n",
       "Genre          object\n",
       "Synopsis       object\n",
       "Type           object\n",
       "Producer       object\n",
       "Studio         object\n",
       "Rating        float64\n",
       "ScoredBy      float64\n",
       "Popularity    float64\n",
       "Members       float64\n",
       "Episodes      float64\n",
       "Source         object\n",
       "Aired          object\n",
       "Link           object\n",
       "dtype: object"
      ]
     },
     "execution_count": 27,
     "metadata": {},
     "output_type": "execute_result"
    }
   ],
   "source": [
    "anim.dtypes"
   ]
  },
  {
   "cell_type": "code",
   "execution_count": 28,
   "id": "819ef413",
   "metadata": {},
   "outputs": [
    {
     "data": {
      "text/plain": [
       "9.598456973293768"
      ]
     },
     "execution_count": 28,
     "metadata": {},
     "output_type": "execute_result"
    }
   ],
   "source": [
    "# To fill the NaN value with the average of Episodes / unique number of Anime_id \n",
    "\n",
    "fill_Episodes = anim['Episodes'].sum()/anim['Anime_id'].nunique()\n",
    "fill_Episodes"
   ]
  },
  {
   "cell_type": "code",
   "execution_count": 29,
   "id": "d5bef887",
   "metadata": {},
   "outputs": [],
   "source": [
    "# round the decimal: round() or \"%.2f\" % 'the dtypes will be object'\n",
    "\n",
    "fill_Episodes = round(fill_Episodes,0)"
   ]
  },
  {
   "cell_type": "code",
   "execution_count": 30,
   "id": "a6160c75",
   "metadata": {},
   "outputs": [
    {
     "data": {
      "text/plain": [
       "10.0"
      ]
     },
     "execution_count": 30,
     "metadata": {},
     "output_type": "execute_result"
    }
   ],
   "source": [
    "fill_Episodes"
   ]
  },
  {
   "cell_type": "code",
   "execution_count": 31,
   "id": "e8e0bfd9",
   "metadata": {},
   "outputs": [],
   "source": [
    "# fill null values with average of Episodes \n",
    "\n",
    "anim.fillna(value={'Episodes':fill_Episodes}, inplace = True)"
   ]
  },
  {
   "cell_type": "code",
   "execution_count": 32,
   "id": "aeeef218",
   "metadata": {},
   "outputs": [
    {
     "data": {
      "text/plain": [
       "0"
      ]
     },
     "execution_count": 32,
     "metadata": {},
     "output_type": "execute_result"
    }
   ],
   "source": [
    "anim['Episodes'].isnull().sum()"
   ]
  },
  {
   "cell_type": "code",
   "execution_count": 33,
   "id": "ccecf0bd",
   "metadata": {},
   "outputs": [
    {
     "data": {
      "text/plain": [
       "dtype('float64')"
      ]
     },
     "execution_count": 33,
     "metadata": {},
     "output_type": "execute_result"
    }
   ],
   "source": [
    "anim['Episodes'].dtypes"
   ]
  },
  {
   "cell_type": "code",
   "execution_count": 34,
   "id": "05e68c7f",
   "metadata": {},
   "outputs": [
    {
     "data": {
      "text/plain": [
       "16997    10.0\n",
       "16998    10.0\n",
       "16999    10.0\n",
       "17000    10.0\n",
       "17001    10.0\n",
       "Name: Episodes, dtype: float64"
      ]
     },
     "execution_count": 34,
     "metadata": {},
     "output_type": "execute_result"
    }
   ],
   "source": [
    "anim['Episodes'].tail()"
   ]
  },
  {
   "cell_type": "markdown",
   "id": "0e697585",
   "metadata": {},
   "source": [
    "***HANDLING 'Rating' NULL VALUE***"
   ]
  },
  {
   "cell_type": "code",
   "execution_count": 35,
   "id": "df2a49ff",
   "metadata": {},
   "outputs": [
    {
     "data": {
      "text/html": [
       "<div>\n",
       "<style scoped>\n",
       "    .dataframe tbody tr th:only-of-type {\n",
       "        vertical-align: middle;\n",
       "    }\n",
       "\n",
       "    .dataframe tbody tr th {\n",
       "        vertical-align: top;\n",
       "    }\n",
       "\n",
       "    .dataframe thead th {\n",
       "        text-align: right;\n",
       "    }\n",
       "</style>\n",
       "<table border=\"1\" class=\"dataframe\">\n",
       "  <thead>\n",
       "    <tr style=\"text-align: right;\">\n",
       "      <th></th>\n",
       "      <th>Count of Nulls</th>\n",
       "    </tr>\n",
       "    <tr>\n",
       "      <th>Column</th>\n",
       "      <th></th>\n",
       "    </tr>\n",
       "  </thead>\n",
       "  <tbody>\n",
       "    <tr>\n",
       "      <th>Producer</th>\n",
       "      <td>9367</td>\n",
       "    </tr>\n",
       "    <tr>\n",
       "      <th>Studio</th>\n",
       "      <td>9083</td>\n",
       "    </tr>\n",
       "    <tr>\n",
       "      <th>ScoredBy</th>\n",
       "      <td>3775</td>\n",
       "    </tr>\n",
       "    <tr>\n",
       "      <th>Episodes</th>\n",
       "      <td>2917</td>\n",
       "    </tr>\n",
       "    <tr>\n",
       "      <th>Rating</th>\n",
       "      <td>2577</td>\n",
       "    </tr>\n",
       "    <tr>\n",
       "      <th>Genre</th>\n",
       "      <td>2012</td>\n",
       "    </tr>\n",
       "    <tr>\n",
       "      <th>Source</th>\n",
       "      <td>1927</td>\n",
       "    </tr>\n",
       "    <tr>\n",
       "      <th>Synopsis</th>\n",
       "      <td>1419</td>\n",
       "    </tr>\n",
       "    <tr>\n",
       "      <th>Type</th>\n",
       "      <td>634</td>\n",
       "    </tr>\n",
       "    <tr>\n",
       "      <th>Popularity</th>\n",
       "      <td>634</td>\n",
       "    </tr>\n",
       "    <tr>\n",
       "      <th>Aired</th>\n",
       "      <td>634</td>\n",
       "    </tr>\n",
       "    <tr>\n",
       "      <th>Link</th>\n",
       "      <td>634</td>\n",
       "    </tr>\n",
       "    <tr>\n",
       "      <th>Anime_id</th>\n",
       "      <td>0</td>\n",
       "    </tr>\n",
       "    <tr>\n",
       "      <th>Title</th>\n",
       "      <td>0</td>\n",
       "    </tr>\n",
       "    <tr>\n",
       "      <th>Members</th>\n",
       "      <td>0</td>\n",
       "    </tr>\n",
       "  </tbody>\n",
       "</table>\n",
       "</div>"
      ],
      "text/plain": [
       "            Count of Nulls\n",
       "Column                    \n",
       "Producer              9367\n",
       "Studio                9083\n",
       "ScoredBy              3775\n",
       "Episodes              2917\n",
       "Rating                2577\n",
       "Genre                 2012\n",
       "Source                1927\n",
       "Synopsis              1419\n",
       "Type                   634\n",
       "Popularity             634\n",
       "Aired                  634\n",
       "Link                   634\n",
       "Anime_id                 0\n",
       "Title                    0\n",
       "Members                  0"
      ]
     },
     "execution_count": 35,
     "metadata": {},
     "output_type": "execute_result"
    }
   ],
   "source": [
    "null_df.sort_values(['Count of Nulls'], ascending=False)"
   ]
  },
  {
   "cell_type": "code",
   "execution_count": 36,
   "id": "57c5cc8b",
   "metadata": {},
   "outputs": [
    {
     "data": {
      "text/plain": [
       "Anime_id        int64\n",
       "Title          object\n",
       "Genre          object\n",
       "Synopsis       object\n",
       "Type           object\n",
       "Producer       object\n",
       "Studio         object\n",
       "Rating        float64\n",
       "ScoredBy      float64\n",
       "Popularity    float64\n",
       "Members       float64\n",
       "Episodes      float64\n",
       "Source         object\n",
       "Aired          object\n",
       "Link           object\n",
       "dtype: object"
      ]
     },
     "execution_count": 36,
     "metadata": {},
     "output_type": "execute_result"
    }
   ],
   "source": [
    "anim.dtypes"
   ]
  },
  {
   "cell_type": "code",
   "execution_count": 37,
   "id": "5cc878aa",
   "metadata": {},
   "outputs": [
    {
     "data": {
      "text/html": [
       "<div>\n",
       "<style scoped>\n",
       "    .dataframe tbody tr th:only-of-type {\n",
       "        vertical-align: middle;\n",
       "    }\n",
       "\n",
       "    .dataframe tbody tr th {\n",
       "        vertical-align: top;\n",
       "    }\n",
       "\n",
       "    .dataframe thead th {\n",
       "        text-align: right;\n",
       "    }\n",
       "</style>\n",
       "<table border=\"1\" class=\"dataframe\">\n",
       "  <thead>\n",
       "    <tr style=\"text-align: right;\">\n",
       "      <th></th>\n",
       "      <th>Anime_id</th>\n",
       "      <th>Title</th>\n",
       "      <th>Genre</th>\n",
       "      <th>Synopsis</th>\n",
       "      <th>Type</th>\n",
       "      <th>Producer</th>\n",
       "      <th>Studio</th>\n",
       "      <th>Rating</th>\n",
       "      <th>ScoredBy</th>\n",
       "      <th>Popularity</th>\n",
       "      <th>Members</th>\n",
       "      <th>Episodes</th>\n",
       "      <th>Source</th>\n",
       "      <th>Aired</th>\n",
       "      <th>Link</th>\n",
       "    </tr>\n",
       "  </thead>\n",
       "  <tbody>\n",
       "    <tr>\n",
       "      <th>0</th>\n",
       "      <td>1</td>\n",
       "      <td>Cowboy Bebop</td>\n",
       "      <td>['Action', 'Adventure', 'Comedy', 'Drama', 'Sc...</td>\n",
       "      <td>In the year 2071, humanity has colonized sever...</td>\n",
       "      <td>TV</td>\n",
       "      <td>['Bandai Visual']</td>\n",
       "      <td>['Sunrise']</td>\n",
       "      <td>8.81</td>\n",
       "      <td>363889.0</td>\n",
       "      <td>39.0</td>\n",
       "      <td>704490.0</td>\n",
       "      <td>26.0</td>\n",
       "      <td>Original</td>\n",
       "      <td>Apr 3, 1998 to Apr 24, 1999</td>\n",
       "      <td>https://myanimelist.net/anime/1/Cowboy_Bebop</td>\n",
       "    </tr>\n",
       "    <tr>\n",
       "      <th>1</th>\n",
       "      <td>5</td>\n",
       "      <td>Cowboy Bebop: Tengoku no Tobira</td>\n",
       "      <td>['Action', 'Space', 'Drama', 'Mystery', 'Sci-Fi']</td>\n",
       "      <td>Another day, another bounty—such is the life o...</td>\n",
       "      <td>Movie</td>\n",
       "      <td>['Sunrise', 'Bandai Visual']</td>\n",
       "      <td>['Bones']</td>\n",
       "      <td>8.41</td>\n",
       "      <td>111187.0</td>\n",
       "      <td>475.0</td>\n",
       "      <td>179899.0</td>\n",
       "      <td>1.0</td>\n",
       "      <td>Original</td>\n",
       "      <td>Sep 1, 2001</td>\n",
       "      <td>https://myanimelist.net/anime/5/Cowboy_Bebop__...</td>\n",
       "    </tr>\n",
       "    <tr>\n",
       "      <th>2</th>\n",
       "      <td>6</td>\n",
       "      <td>Trigun</td>\n",
       "      <td>['Action', 'Sci-Fi', 'Adventure', 'Comedy', 'D...</td>\n",
       "      <td>Vash the Stampede is the man with a $$60,000,0...</td>\n",
       "      <td>TV</td>\n",
       "      <td>['Victor Entertainment']</td>\n",
       "      <td>['Madhouse']</td>\n",
       "      <td>8.31</td>\n",
       "      <td>197451.0</td>\n",
       "      <td>158.0</td>\n",
       "      <td>372709.0</td>\n",
       "      <td>26.0</td>\n",
       "      <td>Manga</td>\n",
       "      <td>Apr 1, 1998 to Sep 30, 1998</td>\n",
       "      <td>https://myanimelist.net/anime/6/Trigun</td>\n",
       "    </tr>\n",
       "    <tr>\n",
       "      <th>3</th>\n",
       "      <td>7</td>\n",
       "      <td>Witch Hunter Robin</td>\n",
       "      <td>['Action', 'Magic', 'Police', 'Supernatural', ...</td>\n",
       "      <td>Witches are individuals with special powers li...</td>\n",
       "      <td>TV</td>\n",
       "      <td>['Bandai Visual']</td>\n",
       "      <td>['Sunrise']</td>\n",
       "      <td>7.34</td>\n",
       "      <td>31875.0</td>\n",
       "      <td>1278.0</td>\n",
       "      <td>74889.0</td>\n",
       "      <td>26.0</td>\n",
       "      <td>Original</td>\n",
       "      <td>Jul 2, 2002 to Dec 24, 2002</td>\n",
       "      <td>https://myanimelist.net/anime/7/Witch_Hunter_R...</td>\n",
       "    </tr>\n",
       "    <tr>\n",
       "      <th>4</th>\n",
       "      <td>8</td>\n",
       "      <td>Bouken Ou Beet</td>\n",
       "      <td>['Adventure', 'Fantasy', 'Shounen', 'Supernatu...</td>\n",
       "      <td>It is the dark century and the people are suff...</td>\n",
       "      <td>TV</td>\n",
       "      <td>[NoProducer]</td>\n",
       "      <td>['Toei Animation']</td>\n",
       "      <td>7.04</td>\n",
       "      <td>4757.0</td>\n",
       "      <td>3968.0</td>\n",
       "      <td>11247.0</td>\n",
       "      <td>52.0</td>\n",
       "      <td>Manga</td>\n",
       "      <td>Sep 30, 2004 to Sep 29, 2005</td>\n",
       "      <td>https://myanimelist.net/anime/8/Bouken_Ou_Beet</td>\n",
       "    </tr>\n",
       "  </tbody>\n",
       "</table>\n",
       "</div>"
      ],
      "text/plain": [
       "   Anime_id                            Title  \\\n",
       "0         1                     Cowboy Bebop   \n",
       "1         5  Cowboy Bebop: Tengoku no Tobira   \n",
       "2         6                           Trigun   \n",
       "3         7               Witch Hunter Robin   \n",
       "4         8                   Bouken Ou Beet   \n",
       "\n",
       "                                               Genre  \\\n",
       "0  ['Action', 'Adventure', 'Comedy', 'Drama', 'Sc...   \n",
       "1  ['Action', 'Space', 'Drama', 'Mystery', 'Sci-Fi']   \n",
       "2  ['Action', 'Sci-Fi', 'Adventure', 'Comedy', 'D...   \n",
       "3  ['Action', 'Magic', 'Police', 'Supernatural', ...   \n",
       "4  ['Adventure', 'Fantasy', 'Shounen', 'Supernatu...   \n",
       "\n",
       "                                            Synopsis   Type  \\\n",
       "0  In the year 2071, humanity has colonized sever...     TV   \n",
       "1  Another day, another bounty—such is the life o...  Movie   \n",
       "2  Vash the Stampede is the man with a $$60,000,0...     TV   \n",
       "3  Witches are individuals with special powers li...     TV   \n",
       "4  It is the dark century and the people are suff...     TV   \n",
       "\n",
       "                       Producer              Studio  Rating  ScoredBy  \\\n",
       "0             ['Bandai Visual']         ['Sunrise']    8.81  363889.0   \n",
       "1  ['Sunrise', 'Bandai Visual']           ['Bones']    8.41  111187.0   \n",
       "2      ['Victor Entertainment']        ['Madhouse']    8.31  197451.0   \n",
       "3             ['Bandai Visual']         ['Sunrise']    7.34   31875.0   \n",
       "4                  [NoProducer]  ['Toei Animation']    7.04    4757.0   \n",
       "\n",
       "   Popularity   Members  Episodes    Source                         Aired  \\\n",
       "0        39.0  704490.0      26.0  Original   Apr 3, 1998 to Apr 24, 1999   \n",
       "1       475.0  179899.0       1.0  Original                   Sep 1, 2001   \n",
       "2       158.0  372709.0      26.0     Manga   Apr 1, 1998 to Sep 30, 1998   \n",
       "3      1278.0   74889.0      26.0  Original   Jul 2, 2002 to Dec 24, 2002   \n",
       "4      3968.0   11247.0      52.0     Manga  Sep 30, 2004 to Sep 29, 2005   \n",
       "\n",
       "                                                Link  \n",
       "0       https://myanimelist.net/anime/1/Cowboy_Bebop  \n",
       "1  https://myanimelist.net/anime/5/Cowboy_Bebop__...  \n",
       "2             https://myanimelist.net/anime/6/Trigun  \n",
       "3  https://myanimelist.net/anime/7/Witch_Hunter_R...  \n",
       "4     https://myanimelist.net/anime/8/Bouken_Ou_Beet  "
      ]
     },
     "execution_count": 37,
     "metadata": {},
     "output_type": "execute_result"
    }
   ],
   "source": [
    "anim.head()"
   ]
  },
  {
   "cell_type": "code",
   "execution_count": 38,
   "id": "37854c90",
   "metadata": {},
   "outputs": [
    {
     "data": {
      "text/plain": [
       "5.382936498516321"
      ]
     },
     "execution_count": 38,
     "metadata": {},
     "output_type": "execute_result"
    }
   ],
   "source": [
    "# To fill the NaN value with the average of Rating / unique number of Anime_id \n",
    "\n",
    "fill_Rating = anim['Rating'].sum()/anim['Anime_id'].nunique()\n",
    "fill_Rating"
   ]
  },
  {
   "cell_type": "code",
   "execution_count": 39,
   "id": "4e9743f3",
   "metadata": {},
   "outputs": [],
   "source": [
    "# round the decimal: round() or \"%.2f\" % 'the dtypes will be object'\n",
    "\n",
    "fill_Rating = round(fill_Rating,2)"
   ]
  },
  {
   "cell_type": "code",
   "execution_count": 40,
   "id": "dba4b7a2",
   "metadata": {},
   "outputs": [
    {
     "data": {
      "text/plain": [
       "5.38"
      ]
     },
     "execution_count": 40,
     "metadata": {},
     "output_type": "execute_result"
    }
   ],
   "source": [
    "fill_Rating"
   ]
  },
  {
   "cell_type": "code",
   "execution_count": 41,
   "id": "79e45d6a",
   "metadata": {},
   "outputs": [],
   "source": [
    "# fill null values with average of Rating \n",
    "\n",
    "anim.fillna(value={'Rating':fill_Rating}, inplace = True)"
   ]
  },
  {
   "cell_type": "code",
   "execution_count": 42,
   "id": "c07aad5c",
   "metadata": {},
   "outputs": [
    {
     "data": {
      "text/plain": [
       "0"
      ]
     },
     "execution_count": 42,
     "metadata": {},
     "output_type": "execute_result"
    }
   ],
   "source": [
    "anim['Rating'].isnull().sum()"
   ]
  },
  {
   "cell_type": "code",
   "execution_count": 43,
   "id": "487c4912",
   "metadata": {},
   "outputs": [
    {
     "data": {
      "text/plain": [
       "dtype('float64')"
      ]
     },
     "execution_count": 43,
     "metadata": {},
     "output_type": "execute_result"
    }
   ],
   "source": [
    "anim['Rating'].dtypes"
   ]
  },
  {
   "cell_type": "code",
   "execution_count": 44,
   "id": "7ad91b3c",
   "metadata": {},
   "outputs": [
    {
     "data": {
      "text/plain": [
       "16997    5.50\n",
       "16998    5.94\n",
       "16999    4.28\n",
       "17000    5.38\n",
       "17001    4.00\n",
       "Name: Rating, dtype: float64"
      ]
     },
     "execution_count": 44,
     "metadata": {},
     "output_type": "execute_result"
    }
   ],
   "source": [
    "anim['Rating'].tail()"
   ]
  },
  {
   "cell_type": "markdown",
   "id": "cc7af3ed",
   "metadata": {},
   "source": [
    "***HANDLING 'Genre' NULL VALUE***"
   ]
  },
  {
   "cell_type": "code",
   "execution_count": 45,
   "id": "f0a49cc9",
   "metadata": {},
   "outputs": [
    {
     "data": {
      "text/html": [
       "<div>\n",
       "<style scoped>\n",
       "    .dataframe tbody tr th:only-of-type {\n",
       "        vertical-align: middle;\n",
       "    }\n",
       "\n",
       "    .dataframe tbody tr th {\n",
       "        vertical-align: top;\n",
       "    }\n",
       "\n",
       "    .dataframe thead th {\n",
       "        text-align: right;\n",
       "    }\n",
       "</style>\n",
       "<table border=\"1\" class=\"dataframe\">\n",
       "  <thead>\n",
       "    <tr style=\"text-align: right;\">\n",
       "      <th></th>\n",
       "      <th>Anime_id</th>\n",
       "      <th>Title</th>\n",
       "      <th>Genre</th>\n",
       "      <th>Synopsis</th>\n",
       "      <th>Type</th>\n",
       "      <th>Producer</th>\n",
       "      <th>Studio</th>\n",
       "      <th>Rating</th>\n",
       "      <th>ScoredBy</th>\n",
       "      <th>Popularity</th>\n",
       "      <th>Members</th>\n",
       "      <th>Episodes</th>\n",
       "      <th>Source</th>\n",
       "      <th>Aired</th>\n",
       "      <th>Link</th>\n",
       "    </tr>\n",
       "  </thead>\n",
       "  <tbody>\n",
       "    <tr>\n",
       "      <th>0</th>\n",
       "      <td>1</td>\n",
       "      <td>Cowboy Bebop</td>\n",
       "      <td>['Action', 'Adventure', 'Comedy', 'Drama', 'Sc...</td>\n",
       "      <td>In the year 2071, humanity has colonized sever...</td>\n",
       "      <td>TV</td>\n",
       "      <td>['Bandai Visual']</td>\n",
       "      <td>['Sunrise']</td>\n",
       "      <td>8.81</td>\n",
       "      <td>363889.0</td>\n",
       "      <td>39.0</td>\n",
       "      <td>704490.0</td>\n",
       "      <td>26.0</td>\n",
       "      <td>Original</td>\n",
       "      <td>Apr 3, 1998 to Apr 24, 1999</td>\n",
       "      <td>https://myanimelist.net/anime/1/Cowboy_Bebop</td>\n",
       "    </tr>\n",
       "    <tr>\n",
       "      <th>1</th>\n",
       "      <td>5</td>\n",
       "      <td>Cowboy Bebop: Tengoku no Tobira</td>\n",
       "      <td>['Action', 'Space', 'Drama', 'Mystery', 'Sci-Fi']</td>\n",
       "      <td>Another day, another bounty—such is the life o...</td>\n",
       "      <td>Movie</td>\n",
       "      <td>['Sunrise', 'Bandai Visual']</td>\n",
       "      <td>['Bones']</td>\n",
       "      <td>8.41</td>\n",
       "      <td>111187.0</td>\n",
       "      <td>475.0</td>\n",
       "      <td>179899.0</td>\n",
       "      <td>1.0</td>\n",
       "      <td>Original</td>\n",
       "      <td>Sep 1, 2001</td>\n",
       "      <td>https://myanimelist.net/anime/5/Cowboy_Bebop__...</td>\n",
       "    </tr>\n",
       "    <tr>\n",
       "      <th>2</th>\n",
       "      <td>6</td>\n",
       "      <td>Trigun</td>\n",
       "      <td>['Action', 'Sci-Fi', 'Adventure', 'Comedy', 'D...</td>\n",
       "      <td>Vash the Stampede is the man with a $$60,000,0...</td>\n",
       "      <td>TV</td>\n",
       "      <td>['Victor Entertainment']</td>\n",
       "      <td>['Madhouse']</td>\n",
       "      <td>8.31</td>\n",
       "      <td>197451.0</td>\n",
       "      <td>158.0</td>\n",
       "      <td>372709.0</td>\n",
       "      <td>26.0</td>\n",
       "      <td>Manga</td>\n",
       "      <td>Apr 1, 1998 to Sep 30, 1998</td>\n",
       "      <td>https://myanimelist.net/anime/6/Trigun</td>\n",
       "    </tr>\n",
       "    <tr>\n",
       "      <th>3</th>\n",
       "      <td>7</td>\n",
       "      <td>Witch Hunter Robin</td>\n",
       "      <td>['Action', 'Magic', 'Police', 'Supernatural', ...</td>\n",
       "      <td>Witches are individuals with special powers li...</td>\n",
       "      <td>TV</td>\n",
       "      <td>['Bandai Visual']</td>\n",
       "      <td>['Sunrise']</td>\n",
       "      <td>7.34</td>\n",
       "      <td>31875.0</td>\n",
       "      <td>1278.0</td>\n",
       "      <td>74889.0</td>\n",
       "      <td>26.0</td>\n",
       "      <td>Original</td>\n",
       "      <td>Jul 2, 2002 to Dec 24, 2002</td>\n",
       "      <td>https://myanimelist.net/anime/7/Witch_Hunter_R...</td>\n",
       "    </tr>\n",
       "    <tr>\n",
       "      <th>4</th>\n",
       "      <td>8</td>\n",
       "      <td>Bouken Ou Beet</td>\n",
       "      <td>['Adventure', 'Fantasy', 'Shounen', 'Supernatu...</td>\n",
       "      <td>It is the dark century and the people are suff...</td>\n",
       "      <td>TV</td>\n",
       "      <td>[NoProducer]</td>\n",
       "      <td>['Toei Animation']</td>\n",
       "      <td>7.04</td>\n",
       "      <td>4757.0</td>\n",
       "      <td>3968.0</td>\n",
       "      <td>11247.0</td>\n",
       "      <td>52.0</td>\n",
       "      <td>Manga</td>\n",
       "      <td>Sep 30, 2004 to Sep 29, 2005</td>\n",
       "      <td>https://myanimelist.net/anime/8/Bouken_Ou_Beet</td>\n",
       "    </tr>\n",
       "  </tbody>\n",
       "</table>\n",
       "</div>"
      ],
      "text/plain": [
       "   Anime_id                            Title  \\\n",
       "0         1                     Cowboy Bebop   \n",
       "1         5  Cowboy Bebop: Tengoku no Tobira   \n",
       "2         6                           Trigun   \n",
       "3         7               Witch Hunter Robin   \n",
       "4         8                   Bouken Ou Beet   \n",
       "\n",
       "                                               Genre  \\\n",
       "0  ['Action', 'Adventure', 'Comedy', 'Drama', 'Sc...   \n",
       "1  ['Action', 'Space', 'Drama', 'Mystery', 'Sci-Fi']   \n",
       "2  ['Action', 'Sci-Fi', 'Adventure', 'Comedy', 'D...   \n",
       "3  ['Action', 'Magic', 'Police', 'Supernatural', ...   \n",
       "4  ['Adventure', 'Fantasy', 'Shounen', 'Supernatu...   \n",
       "\n",
       "                                            Synopsis   Type  \\\n",
       "0  In the year 2071, humanity has colonized sever...     TV   \n",
       "1  Another day, another bounty—such is the life o...  Movie   \n",
       "2  Vash the Stampede is the man with a $$60,000,0...     TV   \n",
       "3  Witches are individuals with special powers li...     TV   \n",
       "4  It is the dark century and the people are suff...     TV   \n",
       "\n",
       "                       Producer              Studio  Rating  ScoredBy  \\\n",
       "0             ['Bandai Visual']         ['Sunrise']    8.81  363889.0   \n",
       "1  ['Sunrise', 'Bandai Visual']           ['Bones']    8.41  111187.0   \n",
       "2      ['Victor Entertainment']        ['Madhouse']    8.31  197451.0   \n",
       "3             ['Bandai Visual']         ['Sunrise']    7.34   31875.0   \n",
       "4                  [NoProducer]  ['Toei Animation']    7.04    4757.0   \n",
       "\n",
       "   Popularity   Members  Episodes    Source                         Aired  \\\n",
       "0        39.0  704490.0      26.0  Original   Apr 3, 1998 to Apr 24, 1999   \n",
       "1       475.0  179899.0       1.0  Original                   Sep 1, 2001   \n",
       "2       158.0  372709.0      26.0     Manga   Apr 1, 1998 to Sep 30, 1998   \n",
       "3      1278.0   74889.0      26.0  Original   Jul 2, 2002 to Dec 24, 2002   \n",
       "4      3968.0   11247.0      52.0     Manga  Sep 30, 2004 to Sep 29, 2005   \n",
       "\n",
       "                                                Link  \n",
       "0       https://myanimelist.net/anime/1/Cowboy_Bebop  \n",
       "1  https://myanimelist.net/anime/5/Cowboy_Bebop__...  \n",
       "2             https://myanimelist.net/anime/6/Trigun  \n",
       "3  https://myanimelist.net/anime/7/Witch_Hunter_R...  \n",
       "4     https://myanimelist.net/anime/8/Bouken_Ou_Beet  "
      ]
     },
     "execution_count": 45,
     "metadata": {},
     "output_type": "execute_result"
    }
   ],
   "source": [
    "anim.head()"
   ]
  },
  {
   "cell_type": "code",
   "execution_count": 46,
   "id": "f710680c",
   "metadata": {},
   "outputs": [],
   "source": [
    "# fill null values with [NoGenre]\n",
    "\n",
    "anim['Genre'].fillna(value='[NoGenre]', inplace = True)"
   ]
  },
  {
   "cell_type": "code",
   "execution_count": 47,
   "id": "9f91fa77",
   "metadata": {},
   "outputs": [],
   "source": [
    "anim['Genre'].replace({'[NoGenre]': \"['NoGenre']\"},inplace = True)"
   ]
  },
  {
   "cell_type": "code",
   "execution_count": 48,
   "id": "fb7d0996",
   "metadata": {},
   "outputs": [
    {
     "data": {
      "text/plain": [
       "0"
      ]
     },
     "execution_count": 48,
     "metadata": {},
     "output_type": "execute_result"
    }
   ],
   "source": [
    "anim['Genre'].isnull().sum()"
   ]
  },
  {
   "cell_type": "code",
   "execution_count": 49,
   "id": "6be9f980",
   "metadata": {},
   "outputs": [
    {
     "data": {
      "text/plain": [
       "dtype('O')"
      ]
     },
     "execution_count": 49,
     "metadata": {},
     "output_type": "execute_result"
    }
   ],
   "source": [
    "anim['Genre'].dtypes"
   ]
  },
  {
   "cell_type": "code",
   "execution_count": 50,
   "id": "51d32d6c",
   "metadata": {},
   "outputs": [
    {
     "data": {
      "text/plain": [
       "16997    ['NoGenre']\n",
       "16998    ['NoGenre']\n",
       "16999    ['NoGenre']\n",
       "17000    ['NoGenre']\n",
       "17001    ['NoGenre']\n",
       "Name: Genre, dtype: object"
      ]
     },
     "execution_count": 50,
     "metadata": {},
     "output_type": "execute_result"
    }
   ],
   "source": [
    "anim['Genre'].tail()"
   ]
  },
  {
   "cell_type": "markdown",
   "id": "4eeadb27",
   "metadata": {},
   "source": [
    "***HANDLING 'Source' NULL VALUE***"
   ]
  },
  {
   "cell_type": "code",
   "execution_count": 51,
   "id": "74826acf",
   "metadata": {},
   "outputs": [
    {
     "data": {
      "text/plain": [
       "Anime_id        int64\n",
       "Title          object\n",
       "Genre          object\n",
       "Synopsis       object\n",
       "Type           object\n",
       "Producer       object\n",
       "Studio         object\n",
       "Rating        float64\n",
       "ScoredBy      float64\n",
       "Popularity    float64\n",
       "Members       float64\n",
       "Episodes      float64\n",
       "Source         object\n",
       "Aired          object\n",
       "Link           object\n",
       "dtype: object"
      ]
     },
     "execution_count": 51,
     "metadata": {},
     "output_type": "execute_result"
    }
   ],
   "source": [
    "anim.dtypes"
   ]
  },
  {
   "cell_type": "code",
   "execution_count": 52,
   "id": "1ce87804",
   "metadata": {},
   "outputs": [
    {
     "data": {
      "text/plain": [
       "0    Original\n",
       "1    Original\n",
       "2       Manga\n",
       "3    Original\n",
       "4       Manga\n",
       "Name: Source, dtype: object"
      ]
     },
     "execution_count": 52,
     "metadata": {},
     "output_type": "execute_result"
    }
   ],
   "source": [
    "anim['Source'].head()"
   ]
  },
  {
   "cell_type": "code",
   "execution_count": 53,
   "id": "7e91634b",
   "metadata": {},
   "outputs": [
    {
     "data": {
      "text/plain": [
       "16997    NaN\n",
       "16998    NaN\n",
       "16999    NaN\n",
       "17000    NaN\n",
       "17001    NaN\n",
       "Name: Source, dtype: object"
      ]
     },
     "execution_count": 53,
     "metadata": {},
     "output_type": "execute_result"
    }
   ],
   "source": [
    "anim['Source'].tail()"
   ]
  },
  {
   "cell_type": "code",
   "execution_count": 54,
   "id": "bb28a969",
   "metadata": {},
   "outputs": [],
   "source": [
    "# fill null values with NoSource\n",
    "\n",
    "anim['Source'].fillna(value='[NoSource]', inplace = True)"
   ]
  },
  {
   "cell_type": "code",
   "execution_count": 55,
   "id": "a5fa61ed",
   "metadata": {},
   "outputs": [],
   "source": [
    "anim['Source'].replace({'[NoSource]': 'NoSource'},inplace = True)"
   ]
  },
  {
   "cell_type": "code",
   "execution_count": 56,
   "id": "a6aebcb3",
   "metadata": {},
   "outputs": [
    {
     "data": {
      "text/plain": [
       "array(['Original', 'Manga', 'Light novel', 'Game', 'Visual novel',\n",
       "       '4-koma manga', 'Novel', 'Unknown', 'Other', 'Picture book',\n",
       "       'Web manga', 'Music', 'Book', 'Card game', 'Radio',\n",
       "       'Digital manga', 'NoSource'], dtype=object)"
      ]
     },
     "execution_count": 56,
     "metadata": {},
     "output_type": "execute_result"
    }
   ],
   "source": [
    "anim['Source'].unique()"
   ]
  },
  {
   "cell_type": "code",
   "execution_count": 57,
   "id": "011d5033",
   "metadata": {},
   "outputs": [
    {
     "data": {
      "text/plain": [
       "0"
      ]
     },
     "execution_count": 57,
     "metadata": {},
     "output_type": "execute_result"
    }
   ],
   "source": [
    "anim['Source'].isnull().sum()"
   ]
  },
  {
   "cell_type": "code",
   "execution_count": 58,
   "id": "dd9a213a",
   "metadata": {},
   "outputs": [
    {
     "data": {
      "text/plain": [
       "dtype('O')"
      ]
     },
     "execution_count": 58,
     "metadata": {},
     "output_type": "execute_result"
    }
   ],
   "source": [
    "anim['Source'].dtypes"
   ]
  },
  {
   "cell_type": "markdown",
   "id": "e7da6c23",
   "metadata": {},
   "source": [
    "***HANDLING 'Synopsis' NULL VALUE***"
   ]
  },
  {
   "cell_type": "code",
   "execution_count": 59,
   "id": "7ce83985",
   "metadata": {},
   "outputs": [
    {
     "data": {
      "text/plain": [
       "Anime_id        int64\n",
       "Title          object\n",
       "Genre          object\n",
       "Synopsis       object\n",
       "Type           object\n",
       "Producer       object\n",
       "Studio         object\n",
       "Rating        float64\n",
       "ScoredBy      float64\n",
       "Popularity    float64\n",
       "Members       float64\n",
       "Episodes      float64\n",
       "Source         object\n",
       "Aired          object\n",
       "Link           object\n",
       "dtype: object"
      ]
     },
     "execution_count": 59,
     "metadata": {},
     "output_type": "execute_result"
    }
   ],
   "source": [
    "anim.dtypes"
   ]
  },
  {
   "cell_type": "code",
   "execution_count": 60,
   "id": "9f0d2011",
   "metadata": {},
   "outputs": [
    {
     "data": {
      "text/html": [
       "<div>\n",
       "<style scoped>\n",
       "    .dataframe tbody tr th:only-of-type {\n",
       "        vertical-align: middle;\n",
       "    }\n",
       "\n",
       "    .dataframe tbody tr th {\n",
       "        vertical-align: top;\n",
       "    }\n",
       "\n",
       "    .dataframe thead th {\n",
       "        text-align: right;\n",
       "    }\n",
       "</style>\n",
       "<table border=\"1\" class=\"dataframe\">\n",
       "  <thead>\n",
       "    <tr style=\"text-align: right;\">\n",
       "      <th></th>\n",
       "      <th>Anime_id</th>\n",
       "      <th>Title</th>\n",
       "      <th>Genre</th>\n",
       "      <th>Synopsis</th>\n",
       "      <th>Type</th>\n",
       "      <th>Producer</th>\n",
       "      <th>Studio</th>\n",
       "      <th>Rating</th>\n",
       "      <th>ScoredBy</th>\n",
       "      <th>Popularity</th>\n",
       "      <th>Members</th>\n",
       "      <th>Episodes</th>\n",
       "      <th>Source</th>\n",
       "      <th>Aired</th>\n",
       "      <th>Link</th>\n",
       "    </tr>\n",
       "  </thead>\n",
       "  <tbody>\n",
       "    <tr>\n",
       "      <th>0</th>\n",
       "      <td>1</td>\n",
       "      <td>Cowboy Bebop</td>\n",
       "      <td>['Action', 'Adventure', 'Comedy', 'Drama', 'Sc...</td>\n",
       "      <td>In the year 2071, humanity has colonized sever...</td>\n",
       "      <td>TV</td>\n",
       "      <td>['Bandai Visual']</td>\n",
       "      <td>['Sunrise']</td>\n",
       "      <td>8.81</td>\n",
       "      <td>363889.0</td>\n",
       "      <td>39.0</td>\n",
       "      <td>704490.0</td>\n",
       "      <td>26.0</td>\n",
       "      <td>Original</td>\n",
       "      <td>Apr 3, 1998 to Apr 24, 1999</td>\n",
       "      <td>https://myanimelist.net/anime/1/Cowboy_Bebop</td>\n",
       "    </tr>\n",
       "    <tr>\n",
       "      <th>1</th>\n",
       "      <td>5</td>\n",
       "      <td>Cowboy Bebop: Tengoku no Tobira</td>\n",
       "      <td>['Action', 'Space', 'Drama', 'Mystery', 'Sci-Fi']</td>\n",
       "      <td>Another day, another bounty—such is the life o...</td>\n",
       "      <td>Movie</td>\n",
       "      <td>['Sunrise', 'Bandai Visual']</td>\n",
       "      <td>['Bones']</td>\n",
       "      <td>8.41</td>\n",
       "      <td>111187.0</td>\n",
       "      <td>475.0</td>\n",
       "      <td>179899.0</td>\n",
       "      <td>1.0</td>\n",
       "      <td>Original</td>\n",
       "      <td>Sep 1, 2001</td>\n",
       "      <td>https://myanimelist.net/anime/5/Cowboy_Bebop__...</td>\n",
       "    </tr>\n",
       "    <tr>\n",
       "      <th>2</th>\n",
       "      <td>6</td>\n",
       "      <td>Trigun</td>\n",
       "      <td>['Action', 'Sci-Fi', 'Adventure', 'Comedy', 'D...</td>\n",
       "      <td>Vash the Stampede is the man with a $$60,000,0...</td>\n",
       "      <td>TV</td>\n",
       "      <td>['Victor Entertainment']</td>\n",
       "      <td>['Madhouse']</td>\n",
       "      <td>8.31</td>\n",
       "      <td>197451.0</td>\n",
       "      <td>158.0</td>\n",
       "      <td>372709.0</td>\n",
       "      <td>26.0</td>\n",
       "      <td>Manga</td>\n",
       "      <td>Apr 1, 1998 to Sep 30, 1998</td>\n",
       "      <td>https://myanimelist.net/anime/6/Trigun</td>\n",
       "    </tr>\n",
       "    <tr>\n",
       "      <th>3</th>\n",
       "      <td>7</td>\n",
       "      <td>Witch Hunter Robin</td>\n",
       "      <td>['Action', 'Magic', 'Police', 'Supernatural', ...</td>\n",
       "      <td>Witches are individuals with special powers li...</td>\n",
       "      <td>TV</td>\n",
       "      <td>['Bandai Visual']</td>\n",
       "      <td>['Sunrise']</td>\n",
       "      <td>7.34</td>\n",
       "      <td>31875.0</td>\n",
       "      <td>1278.0</td>\n",
       "      <td>74889.0</td>\n",
       "      <td>26.0</td>\n",
       "      <td>Original</td>\n",
       "      <td>Jul 2, 2002 to Dec 24, 2002</td>\n",
       "      <td>https://myanimelist.net/anime/7/Witch_Hunter_R...</td>\n",
       "    </tr>\n",
       "    <tr>\n",
       "      <th>4</th>\n",
       "      <td>8</td>\n",
       "      <td>Bouken Ou Beet</td>\n",
       "      <td>['Adventure', 'Fantasy', 'Shounen', 'Supernatu...</td>\n",
       "      <td>It is the dark century and the people are suff...</td>\n",
       "      <td>TV</td>\n",
       "      <td>[NoProducer]</td>\n",
       "      <td>['Toei Animation']</td>\n",
       "      <td>7.04</td>\n",
       "      <td>4757.0</td>\n",
       "      <td>3968.0</td>\n",
       "      <td>11247.0</td>\n",
       "      <td>52.0</td>\n",
       "      <td>Manga</td>\n",
       "      <td>Sep 30, 2004 to Sep 29, 2005</td>\n",
       "      <td>https://myanimelist.net/anime/8/Bouken_Ou_Beet</td>\n",
       "    </tr>\n",
       "  </tbody>\n",
       "</table>\n",
       "</div>"
      ],
      "text/plain": [
       "   Anime_id                            Title  \\\n",
       "0         1                     Cowboy Bebop   \n",
       "1         5  Cowboy Bebop: Tengoku no Tobira   \n",
       "2         6                           Trigun   \n",
       "3         7               Witch Hunter Robin   \n",
       "4         8                   Bouken Ou Beet   \n",
       "\n",
       "                                               Genre  \\\n",
       "0  ['Action', 'Adventure', 'Comedy', 'Drama', 'Sc...   \n",
       "1  ['Action', 'Space', 'Drama', 'Mystery', 'Sci-Fi']   \n",
       "2  ['Action', 'Sci-Fi', 'Adventure', 'Comedy', 'D...   \n",
       "3  ['Action', 'Magic', 'Police', 'Supernatural', ...   \n",
       "4  ['Adventure', 'Fantasy', 'Shounen', 'Supernatu...   \n",
       "\n",
       "                                            Synopsis   Type  \\\n",
       "0  In the year 2071, humanity has colonized sever...     TV   \n",
       "1  Another day, another bounty—such is the life o...  Movie   \n",
       "2  Vash the Stampede is the man with a $$60,000,0...     TV   \n",
       "3  Witches are individuals with special powers li...     TV   \n",
       "4  It is the dark century and the people are suff...     TV   \n",
       "\n",
       "                       Producer              Studio  Rating  ScoredBy  \\\n",
       "0             ['Bandai Visual']         ['Sunrise']    8.81  363889.0   \n",
       "1  ['Sunrise', 'Bandai Visual']           ['Bones']    8.41  111187.0   \n",
       "2      ['Victor Entertainment']        ['Madhouse']    8.31  197451.0   \n",
       "3             ['Bandai Visual']         ['Sunrise']    7.34   31875.0   \n",
       "4                  [NoProducer]  ['Toei Animation']    7.04    4757.0   \n",
       "\n",
       "   Popularity   Members  Episodes    Source                         Aired  \\\n",
       "0        39.0  704490.0      26.0  Original   Apr 3, 1998 to Apr 24, 1999   \n",
       "1       475.0  179899.0       1.0  Original                   Sep 1, 2001   \n",
       "2       158.0  372709.0      26.0     Manga   Apr 1, 1998 to Sep 30, 1998   \n",
       "3      1278.0   74889.0      26.0  Original   Jul 2, 2002 to Dec 24, 2002   \n",
       "4      3968.0   11247.0      52.0     Manga  Sep 30, 2004 to Sep 29, 2005   \n",
       "\n",
       "                                                Link  \n",
       "0       https://myanimelist.net/anime/1/Cowboy_Bebop  \n",
       "1  https://myanimelist.net/anime/5/Cowboy_Bebop__...  \n",
       "2             https://myanimelist.net/anime/6/Trigun  \n",
       "3  https://myanimelist.net/anime/7/Witch_Hunter_R...  \n",
       "4     https://myanimelist.net/anime/8/Bouken_Ou_Beet  "
      ]
     },
     "execution_count": 60,
     "metadata": {},
     "output_type": "execute_result"
    }
   ],
   "source": [
    "anim.head()"
   ]
  },
  {
   "cell_type": "code",
   "execution_count": 61,
   "id": "e1efd92d",
   "metadata": {},
   "outputs": [],
   "source": [
    "# fill null values with NoSynopsis\n",
    "\n",
    "anim['Synopsis'].fillna(value='NoSynopsis', inplace = True)"
   ]
  },
  {
   "cell_type": "code",
   "execution_count": 62,
   "id": "7544224c",
   "metadata": {},
   "outputs": [
    {
     "data": {
      "text/plain": [
       "0"
      ]
     },
     "execution_count": 62,
     "metadata": {},
     "output_type": "execute_result"
    }
   ],
   "source": [
    "anim['Synopsis'].isnull().sum()"
   ]
  },
  {
   "cell_type": "code",
   "execution_count": 63,
   "id": "26c50979",
   "metadata": {},
   "outputs": [
    {
     "data": {
      "text/plain": [
       "dtype('O')"
      ]
     },
     "execution_count": 63,
     "metadata": {},
     "output_type": "execute_result"
    }
   ],
   "source": [
    "anim['Synopsis'].dtypes"
   ]
  },
  {
   "cell_type": "code",
   "execution_count": 64,
   "id": "50b54f99",
   "metadata": {},
   "outputs": [
    {
     "data": {
      "text/plain": [
       "16997    NoSynopsis\n",
       "16998    NoSynopsis\n",
       "16999    NoSynopsis\n",
       "17000    NoSynopsis\n",
       "17001    NoSynopsis\n",
       "Name: Synopsis, dtype: object"
      ]
     },
     "execution_count": 64,
     "metadata": {},
     "output_type": "execute_result"
    }
   ],
   "source": [
    "anim['Synopsis'].tail()"
   ]
  },
  {
   "cell_type": "markdown",
   "id": "688f30ad",
   "metadata": {},
   "source": [
    "***HANDLING 'Type' NULL VALUE***"
   ]
  },
  {
   "cell_type": "code",
   "execution_count": 65,
   "id": "10df4454",
   "metadata": {},
   "outputs": [],
   "source": [
    "# fill null values with NoType\n",
    "\n",
    "anim['Type'].fillna(value='NoSynopsis', inplace = True)"
   ]
  },
  {
   "cell_type": "code",
   "execution_count": 66,
   "id": "c77dce3e",
   "metadata": {},
   "outputs": [],
   "source": [
    "# accidentally put wrong string on element. Replace new element\n",
    "\n",
    "anim['Type'].replace({'NoSynopsis': 'NoType'},inplace = True)"
   ]
  },
  {
   "cell_type": "code",
   "execution_count": 67,
   "id": "408f3f1a",
   "metadata": {},
   "outputs": [
    {
     "data": {
      "text/plain": [
       "array(['TV', 'Movie', 'OVA', 'Special', 'ONA', 'Music', 'Unknown',\n",
       "       'NoType'], dtype=object)"
      ]
     },
     "execution_count": 67,
     "metadata": {},
     "output_type": "execute_result"
    }
   ],
   "source": [
    "anim['Type'].unique()"
   ]
  },
  {
   "cell_type": "code",
   "execution_count": 68,
   "id": "510b2033",
   "metadata": {},
   "outputs": [
    {
     "data": {
      "text/plain": [
       "0"
      ]
     },
     "execution_count": 68,
     "metadata": {},
     "output_type": "execute_result"
    }
   ],
   "source": [
    "anim['Type'].isnull().sum()"
   ]
  },
  {
   "cell_type": "code",
   "execution_count": 69,
   "id": "0e830cb7",
   "metadata": {},
   "outputs": [
    {
     "data": {
      "text/plain": [
       "dtype('O')"
      ]
     },
     "execution_count": 69,
     "metadata": {},
     "output_type": "execute_result"
    }
   ],
   "source": [
    "anim['Type'].dtypes"
   ]
  },
  {
   "cell_type": "code",
   "execution_count": 70,
   "id": "568ed623",
   "metadata": {},
   "outputs": [
    {
     "data": {
      "text/plain": [
       "16997    Special\n",
       "16998         TV\n",
       "16999    Special\n",
       "17000     NoType\n",
       "17001        OVA\n",
       "Name: Type, dtype: object"
      ]
     },
     "execution_count": 70,
     "metadata": {},
     "output_type": "execute_result"
    }
   ],
   "source": [
    "anim['Type'].tail()"
   ]
  },
  {
   "cell_type": "markdown",
   "id": "462d11e3",
   "metadata": {},
   "source": [
    "***HANDLING 'Popularity' NULL VALUE***"
   ]
  },
  {
   "cell_type": "code",
   "execution_count": 71,
   "id": "b5782005",
   "metadata": {},
   "outputs": [
    {
     "data": {
      "text/html": [
       "<div>\n",
       "<style scoped>\n",
       "    .dataframe tbody tr th:only-of-type {\n",
       "        vertical-align: middle;\n",
       "    }\n",
       "\n",
       "    .dataframe tbody tr th {\n",
       "        vertical-align: top;\n",
       "    }\n",
       "\n",
       "    .dataframe thead th {\n",
       "        text-align: right;\n",
       "    }\n",
       "</style>\n",
       "<table border=\"1\" class=\"dataframe\">\n",
       "  <thead>\n",
       "    <tr style=\"text-align: right;\">\n",
       "      <th></th>\n",
       "      <th>Count of Nulls</th>\n",
       "    </tr>\n",
       "    <tr>\n",
       "      <th>Column</th>\n",
       "      <th></th>\n",
       "    </tr>\n",
       "  </thead>\n",
       "  <tbody>\n",
       "    <tr>\n",
       "      <th>Producer</th>\n",
       "      <td>9367</td>\n",
       "    </tr>\n",
       "    <tr>\n",
       "      <th>Studio</th>\n",
       "      <td>9083</td>\n",
       "    </tr>\n",
       "    <tr>\n",
       "      <th>ScoredBy</th>\n",
       "      <td>3775</td>\n",
       "    </tr>\n",
       "    <tr>\n",
       "      <th>Episodes</th>\n",
       "      <td>2917</td>\n",
       "    </tr>\n",
       "    <tr>\n",
       "      <th>Rating</th>\n",
       "      <td>2577</td>\n",
       "    </tr>\n",
       "    <tr>\n",
       "      <th>Genre</th>\n",
       "      <td>2012</td>\n",
       "    </tr>\n",
       "    <tr>\n",
       "      <th>Source</th>\n",
       "      <td>1927</td>\n",
       "    </tr>\n",
       "    <tr>\n",
       "      <th>Synopsis</th>\n",
       "      <td>1419</td>\n",
       "    </tr>\n",
       "    <tr>\n",
       "      <th>Type</th>\n",
       "      <td>634</td>\n",
       "    </tr>\n",
       "    <tr>\n",
       "      <th>Popularity</th>\n",
       "      <td>634</td>\n",
       "    </tr>\n",
       "    <tr>\n",
       "      <th>Aired</th>\n",
       "      <td>634</td>\n",
       "    </tr>\n",
       "    <tr>\n",
       "      <th>Link</th>\n",
       "      <td>634</td>\n",
       "    </tr>\n",
       "    <tr>\n",
       "      <th>Anime_id</th>\n",
       "      <td>0</td>\n",
       "    </tr>\n",
       "    <tr>\n",
       "      <th>Title</th>\n",
       "      <td>0</td>\n",
       "    </tr>\n",
       "    <tr>\n",
       "      <th>Members</th>\n",
       "      <td>0</td>\n",
       "    </tr>\n",
       "  </tbody>\n",
       "</table>\n",
       "</div>"
      ],
      "text/plain": [
       "            Count of Nulls\n",
       "Column                    \n",
       "Producer              9367\n",
       "Studio                9083\n",
       "ScoredBy              3775\n",
       "Episodes              2917\n",
       "Rating                2577\n",
       "Genre                 2012\n",
       "Source                1927\n",
       "Synopsis              1419\n",
       "Type                   634\n",
       "Popularity             634\n",
       "Aired                  634\n",
       "Link                   634\n",
       "Anime_id                 0\n",
       "Title                    0\n",
       "Members                  0"
      ]
     },
     "execution_count": 71,
     "metadata": {},
     "output_type": "execute_result"
    }
   ],
   "source": [
    "null_df.sort_values(['Count of Nulls'], ascending=False)"
   ]
  },
  {
   "cell_type": "code",
   "execution_count": 72,
   "id": "f01591ca",
   "metadata": {},
   "outputs": [
    {
     "data": {
      "text/html": [
       "<div>\n",
       "<style scoped>\n",
       "    .dataframe tbody tr th:only-of-type {\n",
       "        vertical-align: middle;\n",
       "    }\n",
       "\n",
       "    .dataframe tbody tr th {\n",
       "        vertical-align: top;\n",
       "    }\n",
       "\n",
       "    .dataframe thead th {\n",
       "        text-align: right;\n",
       "    }\n",
       "</style>\n",
       "<table border=\"1\" class=\"dataframe\">\n",
       "  <thead>\n",
       "    <tr style=\"text-align: right;\">\n",
       "      <th></th>\n",
       "      <th>Anime_id</th>\n",
       "      <th>Title</th>\n",
       "      <th>Genre</th>\n",
       "      <th>Synopsis</th>\n",
       "      <th>Type</th>\n",
       "      <th>Producer</th>\n",
       "      <th>Studio</th>\n",
       "      <th>Rating</th>\n",
       "      <th>ScoredBy</th>\n",
       "      <th>Popularity</th>\n",
       "      <th>Members</th>\n",
       "      <th>Episodes</th>\n",
       "      <th>Source</th>\n",
       "      <th>Aired</th>\n",
       "      <th>Link</th>\n",
       "    </tr>\n",
       "  </thead>\n",
       "  <tbody>\n",
       "    <tr>\n",
       "      <th>0</th>\n",
       "      <td>1</td>\n",
       "      <td>Cowboy Bebop</td>\n",
       "      <td>['Action', 'Adventure', 'Comedy', 'Drama', 'Sc...</td>\n",
       "      <td>In the year 2071, humanity has colonized sever...</td>\n",
       "      <td>TV</td>\n",
       "      <td>['Bandai Visual']</td>\n",
       "      <td>['Sunrise']</td>\n",
       "      <td>8.81</td>\n",
       "      <td>363889.0</td>\n",
       "      <td>39.0</td>\n",
       "      <td>704490.0</td>\n",
       "      <td>26.0</td>\n",
       "      <td>Original</td>\n",
       "      <td>Apr 3, 1998 to Apr 24, 1999</td>\n",
       "      <td>https://myanimelist.net/anime/1/Cowboy_Bebop</td>\n",
       "    </tr>\n",
       "    <tr>\n",
       "      <th>1</th>\n",
       "      <td>5</td>\n",
       "      <td>Cowboy Bebop: Tengoku no Tobira</td>\n",
       "      <td>['Action', 'Space', 'Drama', 'Mystery', 'Sci-Fi']</td>\n",
       "      <td>Another day, another bounty—such is the life o...</td>\n",
       "      <td>Movie</td>\n",
       "      <td>['Sunrise', 'Bandai Visual']</td>\n",
       "      <td>['Bones']</td>\n",
       "      <td>8.41</td>\n",
       "      <td>111187.0</td>\n",
       "      <td>475.0</td>\n",
       "      <td>179899.0</td>\n",
       "      <td>1.0</td>\n",
       "      <td>Original</td>\n",
       "      <td>Sep 1, 2001</td>\n",
       "      <td>https://myanimelist.net/anime/5/Cowboy_Bebop__...</td>\n",
       "    </tr>\n",
       "    <tr>\n",
       "      <th>2</th>\n",
       "      <td>6</td>\n",
       "      <td>Trigun</td>\n",
       "      <td>['Action', 'Sci-Fi', 'Adventure', 'Comedy', 'D...</td>\n",
       "      <td>Vash the Stampede is the man with a $$60,000,0...</td>\n",
       "      <td>TV</td>\n",
       "      <td>['Victor Entertainment']</td>\n",
       "      <td>['Madhouse']</td>\n",
       "      <td>8.31</td>\n",
       "      <td>197451.0</td>\n",
       "      <td>158.0</td>\n",
       "      <td>372709.0</td>\n",
       "      <td>26.0</td>\n",
       "      <td>Manga</td>\n",
       "      <td>Apr 1, 1998 to Sep 30, 1998</td>\n",
       "      <td>https://myanimelist.net/anime/6/Trigun</td>\n",
       "    </tr>\n",
       "    <tr>\n",
       "      <th>3</th>\n",
       "      <td>7</td>\n",
       "      <td>Witch Hunter Robin</td>\n",
       "      <td>['Action', 'Magic', 'Police', 'Supernatural', ...</td>\n",
       "      <td>Witches are individuals with special powers li...</td>\n",
       "      <td>TV</td>\n",
       "      <td>['Bandai Visual']</td>\n",
       "      <td>['Sunrise']</td>\n",
       "      <td>7.34</td>\n",
       "      <td>31875.0</td>\n",
       "      <td>1278.0</td>\n",
       "      <td>74889.0</td>\n",
       "      <td>26.0</td>\n",
       "      <td>Original</td>\n",
       "      <td>Jul 2, 2002 to Dec 24, 2002</td>\n",
       "      <td>https://myanimelist.net/anime/7/Witch_Hunter_R...</td>\n",
       "    </tr>\n",
       "    <tr>\n",
       "      <th>4</th>\n",
       "      <td>8</td>\n",
       "      <td>Bouken Ou Beet</td>\n",
       "      <td>['Adventure', 'Fantasy', 'Shounen', 'Supernatu...</td>\n",
       "      <td>It is the dark century and the people are suff...</td>\n",
       "      <td>TV</td>\n",
       "      <td>[NoProducer]</td>\n",
       "      <td>['Toei Animation']</td>\n",
       "      <td>7.04</td>\n",
       "      <td>4757.0</td>\n",
       "      <td>3968.0</td>\n",
       "      <td>11247.0</td>\n",
       "      <td>52.0</td>\n",
       "      <td>Manga</td>\n",
       "      <td>Sep 30, 2004 to Sep 29, 2005</td>\n",
       "      <td>https://myanimelist.net/anime/8/Bouken_Ou_Beet</td>\n",
       "    </tr>\n",
       "  </tbody>\n",
       "</table>\n",
       "</div>"
      ],
      "text/plain": [
       "   Anime_id                            Title  \\\n",
       "0         1                     Cowboy Bebop   \n",
       "1         5  Cowboy Bebop: Tengoku no Tobira   \n",
       "2         6                           Trigun   \n",
       "3         7               Witch Hunter Robin   \n",
       "4         8                   Bouken Ou Beet   \n",
       "\n",
       "                                               Genre  \\\n",
       "0  ['Action', 'Adventure', 'Comedy', 'Drama', 'Sc...   \n",
       "1  ['Action', 'Space', 'Drama', 'Mystery', 'Sci-Fi']   \n",
       "2  ['Action', 'Sci-Fi', 'Adventure', 'Comedy', 'D...   \n",
       "3  ['Action', 'Magic', 'Police', 'Supernatural', ...   \n",
       "4  ['Adventure', 'Fantasy', 'Shounen', 'Supernatu...   \n",
       "\n",
       "                                            Synopsis   Type  \\\n",
       "0  In the year 2071, humanity has colonized sever...     TV   \n",
       "1  Another day, another bounty—such is the life o...  Movie   \n",
       "2  Vash the Stampede is the man with a $$60,000,0...     TV   \n",
       "3  Witches are individuals with special powers li...     TV   \n",
       "4  It is the dark century and the people are suff...     TV   \n",
       "\n",
       "                       Producer              Studio  Rating  ScoredBy  \\\n",
       "0             ['Bandai Visual']         ['Sunrise']    8.81  363889.0   \n",
       "1  ['Sunrise', 'Bandai Visual']           ['Bones']    8.41  111187.0   \n",
       "2      ['Victor Entertainment']        ['Madhouse']    8.31  197451.0   \n",
       "3             ['Bandai Visual']         ['Sunrise']    7.34   31875.0   \n",
       "4                  [NoProducer]  ['Toei Animation']    7.04    4757.0   \n",
       "\n",
       "   Popularity   Members  Episodes    Source                         Aired  \\\n",
       "0        39.0  704490.0      26.0  Original   Apr 3, 1998 to Apr 24, 1999   \n",
       "1       475.0  179899.0       1.0  Original                   Sep 1, 2001   \n",
       "2       158.0  372709.0      26.0     Manga   Apr 1, 1998 to Sep 30, 1998   \n",
       "3      1278.0   74889.0      26.0  Original   Jul 2, 2002 to Dec 24, 2002   \n",
       "4      3968.0   11247.0      52.0     Manga  Sep 30, 2004 to Sep 29, 2005   \n",
       "\n",
       "                                                Link  \n",
       "0       https://myanimelist.net/anime/1/Cowboy_Bebop  \n",
       "1  https://myanimelist.net/anime/5/Cowboy_Bebop__...  \n",
       "2             https://myanimelist.net/anime/6/Trigun  \n",
       "3  https://myanimelist.net/anime/7/Witch_Hunter_R...  \n",
       "4     https://myanimelist.net/anime/8/Bouken_Ou_Beet  "
      ]
     },
     "execution_count": 72,
     "metadata": {},
     "output_type": "execute_result"
    }
   ],
   "source": [
    "anim.head()"
   ]
  },
  {
   "cell_type": "code",
   "execution_count": 73,
   "id": "1a10a357",
   "metadata": {},
   "outputs": [
    {
     "data": {
      "text/plain": [
       "Anime_id        int64\n",
       "Title          object\n",
       "Genre          object\n",
       "Synopsis       object\n",
       "Type           object\n",
       "Producer       object\n",
       "Studio         object\n",
       "Rating        float64\n",
       "ScoredBy      float64\n",
       "Popularity    float64\n",
       "Members       float64\n",
       "Episodes      float64\n",
       "Source         object\n",
       "Aired          object\n",
       "Link           object\n",
       "dtype: object"
      ]
     },
     "execution_count": 73,
     "metadata": {},
     "output_type": "execute_result"
    }
   ],
   "source": [
    "anim.dtypes"
   ]
  },
  {
   "cell_type": "code",
   "execution_count": 74,
   "id": "b97bb2b5",
   "metadata": {},
   "outputs": [
    {
     "data": {
      "text/plain": [
       "7899.303264094956"
      ]
     },
     "execution_count": 74,
     "metadata": {},
     "output_type": "execute_result"
    }
   ],
   "source": [
    "# To fill the NaN value with the average of Popularity / unique number of Anime_id \n",
    "\n",
    "fill_Popularity = anim['Popularity'].sum()/anim['Anime_id'].nunique()\n",
    "fill_Popularity"
   ]
  },
  {
   "cell_type": "code",
   "execution_count": 75,
   "id": "fbdd609e",
   "metadata": {},
   "outputs": [],
   "source": [
    "# round the decimal: round() or \"%.2f\" % 'the dtypes will be object'\n",
    "\n",
    "fill_Popularity = round(fill_Popularity,0)"
   ]
  },
  {
   "cell_type": "code",
   "execution_count": 76,
   "id": "cec268da",
   "metadata": {},
   "outputs": [
    {
     "data": {
      "text/plain": [
       "7899.0"
      ]
     },
     "execution_count": 76,
     "metadata": {},
     "output_type": "execute_result"
    }
   ],
   "source": [
    "fill_Popularity"
   ]
  },
  {
   "cell_type": "code",
   "execution_count": 77,
   "id": "d3e728bd",
   "metadata": {},
   "outputs": [],
   "source": [
    "# fill null values with average of Popularity\n",
    "\n",
    "anim.fillna(value={'Popularity':fill_Popularity},inplace = True)"
   ]
  },
  {
   "cell_type": "code",
   "execution_count": 78,
   "id": "ef1b490a",
   "metadata": {},
   "outputs": [
    {
     "data": {
      "text/plain": [
       "0"
      ]
     },
     "execution_count": 78,
     "metadata": {},
     "output_type": "execute_result"
    }
   ],
   "source": [
    "anim['Popularity'].isnull().sum()"
   ]
  },
  {
   "cell_type": "code",
   "execution_count": 79,
   "id": "ea2de0b0",
   "metadata": {},
   "outputs": [
    {
     "data": {
      "text/plain": [
       "dtype('float64')"
      ]
     },
     "execution_count": 79,
     "metadata": {},
     "output_type": "execute_result"
    }
   ],
   "source": [
    "anim['Popularity'].dtypes"
   ]
  },
  {
   "cell_type": "code",
   "execution_count": 80,
   "id": "f27ad00a",
   "metadata": {},
   "outputs": [
    {
     "data": {
      "text/plain": [
       "16997    7899.0\n",
       "16998    7899.0\n",
       "16999    7899.0\n",
       "17000    7899.0\n",
       "17001    7899.0\n",
       "Name: Popularity, dtype: float64"
      ]
     },
     "execution_count": 80,
     "metadata": {},
     "output_type": "execute_result"
    }
   ],
   "source": [
    "anim['Popularity'].tail()"
   ]
  },
  {
   "cell_type": "markdown",
   "id": "457cbe1a",
   "metadata": {},
   "source": [
    "***HANDLING 'Aired' NULL VALUE***"
   ]
  },
  {
   "cell_type": "code",
   "execution_count": 81,
   "id": "0482820c",
   "metadata": {},
   "outputs": [
    {
     "data": {
      "text/plain": [
       "Anime_id        int64\n",
       "Title          object\n",
       "Genre          object\n",
       "Synopsis       object\n",
       "Type           object\n",
       "Producer       object\n",
       "Studio         object\n",
       "Rating        float64\n",
       "ScoredBy      float64\n",
       "Popularity    float64\n",
       "Members       float64\n",
       "Episodes      float64\n",
       "Source         object\n",
       "Aired          object\n",
       "Link           object\n",
       "dtype: object"
      ]
     },
     "execution_count": 81,
     "metadata": {},
     "output_type": "execute_result"
    }
   ],
   "source": [
    "anim.dtypes"
   ]
  },
  {
   "cell_type": "code",
   "execution_count": 82,
   "id": "0e69c3bc",
   "metadata": {},
   "outputs": [],
   "source": [
    "# fill null values with NoAired\n",
    "\n",
    "anim['Aired'].fillna(value='NoAired', inplace = True)"
   ]
  },
  {
   "cell_type": "code",
   "execution_count": 83,
   "id": "3cf07a65",
   "metadata": {},
   "outputs": [
    {
     "data": {
      "text/plain": [
       "0"
      ]
     },
     "execution_count": 83,
     "metadata": {},
     "output_type": "execute_result"
    }
   ],
   "source": [
    "anim['Aired'].isnull().sum()"
   ]
  },
  {
   "cell_type": "code",
   "execution_count": 84,
   "id": "da8978ba",
   "metadata": {},
   "outputs": [
    {
     "data": {
      "text/plain": [
       "dtype('O')"
      ]
     },
     "execution_count": 84,
     "metadata": {},
     "output_type": "execute_result"
    }
   ],
   "source": [
    "anim['Aired'].dtypes"
   ]
  },
  {
   "cell_type": "markdown",
   "id": "1a3547ba",
   "metadata": {},
   "source": [
    "***HANDLING 'Link' NULL VALUE***"
   ]
  },
  {
   "cell_type": "code",
   "execution_count": 85,
   "id": "26573a01",
   "metadata": {},
   "outputs": [
    {
     "data": {
      "text/plain": [
       "Anime_id        int64\n",
       "Title          object\n",
       "Genre          object\n",
       "Synopsis       object\n",
       "Type           object\n",
       "Producer       object\n",
       "Studio         object\n",
       "Rating        float64\n",
       "ScoredBy      float64\n",
       "Popularity    float64\n",
       "Members       float64\n",
       "Episodes      float64\n",
       "Source         object\n",
       "Aired          object\n",
       "Link           object\n",
       "dtype: object"
      ]
     },
     "execution_count": 85,
     "metadata": {},
     "output_type": "execute_result"
    }
   ],
   "source": [
    "anim.dtypes"
   ]
  },
  {
   "cell_type": "code",
   "execution_count": 86,
   "id": "b58b2b9a",
   "metadata": {},
   "outputs": [],
   "source": [
    "# fill null values with NoLink\n",
    "\n",
    "anim['Link'].fillna(value='NoLink', inplace = True)"
   ]
  },
  {
   "cell_type": "code",
   "execution_count": 87,
   "id": "0a08f51f",
   "metadata": {},
   "outputs": [
    {
     "data": {
      "text/plain": [
       "0"
      ]
     },
     "execution_count": 87,
     "metadata": {},
     "output_type": "execute_result"
    }
   ],
   "source": [
    "anim['Link'].isnull().sum()"
   ]
  },
  {
   "cell_type": "code",
   "execution_count": 88,
   "id": "0e42d3db",
   "metadata": {},
   "outputs": [
    {
     "data": {
      "text/plain": [
       "dtype('O')"
      ]
     },
     "execution_count": 88,
     "metadata": {},
     "output_type": "execute_result"
    }
   ],
   "source": [
    "anim['Link'].dtypes"
   ]
  },
  {
   "cell_type": "code",
   "execution_count": 89,
   "id": "0741f054",
   "metadata": {},
   "outputs": [
    {
     "data": {
      "text/plain": [
       "16997    NoLink\n",
       "16998    NoLink\n",
       "16999    NoLink\n",
       "17000    NoLink\n",
       "17001    NoLink\n",
       "Name: Link, dtype: object"
      ]
     },
     "execution_count": 89,
     "metadata": {},
     "output_type": "execute_result"
    }
   ],
   "source": [
    "anim['Link'].tail()"
   ]
  },
  {
   "cell_type": "code",
   "execution_count": 90,
   "id": "15b000f3",
   "metadata": {},
   "outputs": [
    {
     "data": {
      "text/plain": [
       "Anime_id      0\n",
       "Title         0\n",
       "Genre         0\n",
       "Synopsis      0\n",
       "Type          0\n",
       "Producer      0\n",
       "Studio        0\n",
       "Rating        0\n",
       "ScoredBy      0\n",
       "Popularity    0\n",
       "Members       0\n",
       "Episodes      0\n",
       "Source        0\n",
       "Aired         0\n",
       "Link          0\n",
       "dtype: int64"
      ]
     },
     "execution_count": 90,
     "metadata": {},
     "output_type": "execute_result"
    }
   ],
   "source": [
    "anim.isnull().sum()"
   ]
  },
  {
   "cell_type": "markdown",
   "id": "bb94b23b",
   "metadata": {},
   "source": [
    "# Data Visualization\n",
    "\n",
    "For data visualization, there 2 types of chart that been used:\n",
    "1. **Histogram** -  \"Rating\" and \"Popularity\n",
    "2.  **Bar Chart** - \"Source\", \"Type\", \"Genre\""
   ]
  },
  {
   "cell_type": "markdown",
   "id": "3d913857",
   "metadata": {},
   "source": [
    "# Histogram"
   ]
  },
  {
   "cell_type": "code",
   "execution_count": 91,
   "id": "eb7315f4",
   "metadata": {},
   "outputs": [
    {
     "data": {
      "text/html": [
       "<div>\n",
       "<style scoped>\n",
       "    .dataframe tbody tr th:only-of-type {\n",
       "        vertical-align: middle;\n",
       "    }\n",
       "\n",
       "    .dataframe tbody tr th {\n",
       "        vertical-align: top;\n",
       "    }\n",
       "\n",
       "    .dataframe thead th {\n",
       "        text-align: right;\n",
       "    }\n",
       "</style>\n",
       "<table border=\"1\" class=\"dataframe\">\n",
       "  <thead>\n",
       "    <tr style=\"text-align: right;\">\n",
       "      <th></th>\n",
       "      <th>Anime_id</th>\n",
       "      <th>Title</th>\n",
       "      <th>Genre</th>\n",
       "      <th>Synopsis</th>\n",
       "      <th>Type</th>\n",
       "      <th>Producer</th>\n",
       "      <th>Studio</th>\n",
       "      <th>Rating</th>\n",
       "      <th>ScoredBy</th>\n",
       "      <th>Popularity</th>\n",
       "      <th>Members</th>\n",
       "      <th>Episodes</th>\n",
       "      <th>Source</th>\n",
       "      <th>Aired</th>\n",
       "      <th>Link</th>\n",
       "    </tr>\n",
       "  </thead>\n",
       "  <tbody>\n",
       "    <tr>\n",
       "      <th>0</th>\n",
       "      <td>1</td>\n",
       "      <td>Cowboy Bebop</td>\n",
       "      <td>['Action', 'Adventure', 'Comedy', 'Drama', 'Sc...</td>\n",
       "      <td>In the year 2071, humanity has colonized sever...</td>\n",
       "      <td>TV</td>\n",
       "      <td>['Bandai Visual']</td>\n",
       "      <td>['Sunrise']</td>\n",
       "      <td>8.81</td>\n",
       "      <td>363889.0</td>\n",
       "      <td>39.0</td>\n",
       "      <td>704490.0</td>\n",
       "      <td>26.0</td>\n",
       "      <td>Original</td>\n",
       "      <td>Apr 3, 1998 to Apr 24, 1999</td>\n",
       "      <td>https://myanimelist.net/anime/1/Cowboy_Bebop</td>\n",
       "    </tr>\n",
       "    <tr>\n",
       "      <th>1</th>\n",
       "      <td>5</td>\n",
       "      <td>Cowboy Bebop: Tengoku no Tobira</td>\n",
       "      <td>['Action', 'Space', 'Drama', 'Mystery', 'Sci-Fi']</td>\n",
       "      <td>Another day, another bounty—such is the life o...</td>\n",
       "      <td>Movie</td>\n",
       "      <td>['Sunrise', 'Bandai Visual']</td>\n",
       "      <td>['Bones']</td>\n",
       "      <td>8.41</td>\n",
       "      <td>111187.0</td>\n",
       "      <td>475.0</td>\n",
       "      <td>179899.0</td>\n",
       "      <td>1.0</td>\n",
       "      <td>Original</td>\n",
       "      <td>Sep 1, 2001</td>\n",
       "      <td>https://myanimelist.net/anime/5/Cowboy_Bebop__...</td>\n",
       "    </tr>\n",
       "    <tr>\n",
       "      <th>2</th>\n",
       "      <td>6</td>\n",
       "      <td>Trigun</td>\n",
       "      <td>['Action', 'Sci-Fi', 'Adventure', 'Comedy', 'D...</td>\n",
       "      <td>Vash the Stampede is the man with a $$60,000,0...</td>\n",
       "      <td>TV</td>\n",
       "      <td>['Victor Entertainment']</td>\n",
       "      <td>['Madhouse']</td>\n",
       "      <td>8.31</td>\n",
       "      <td>197451.0</td>\n",
       "      <td>158.0</td>\n",
       "      <td>372709.0</td>\n",
       "      <td>26.0</td>\n",
       "      <td>Manga</td>\n",
       "      <td>Apr 1, 1998 to Sep 30, 1998</td>\n",
       "      <td>https://myanimelist.net/anime/6/Trigun</td>\n",
       "    </tr>\n",
       "    <tr>\n",
       "      <th>3</th>\n",
       "      <td>7</td>\n",
       "      <td>Witch Hunter Robin</td>\n",
       "      <td>['Action', 'Magic', 'Police', 'Supernatural', ...</td>\n",
       "      <td>Witches are individuals with special powers li...</td>\n",
       "      <td>TV</td>\n",
       "      <td>['Bandai Visual']</td>\n",
       "      <td>['Sunrise']</td>\n",
       "      <td>7.34</td>\n",
       "      <td>31875.0</td>\n",
       "      <td>1278.0</td>\n",
       "      <td>74889.0</td>\n",
       "      <td>26.0</td>\n",
       "      <td>Original</td>\n",
       "      <td>Jul 2, 2002 to Dec 24, 2002</td>\n",
       "      <td>https://myanimelist.net/anime/7/Witch_Hunter_R...</td>\n",
       "    </tr>\n",
       "    <tr>\n",
       "      <th>4</th>\n",
       "      <td>8</td>\n",
       "      <td>Bouken Ou Beet</td>\n",
       "      <td>['Adventure', 'Fantasy', 'Shounen', 'Supernatu...</td>\n",
       "      <td>It is the dark century and the people are suff...</td>\n",
       "      <td>TV</td>\n",
       "      <td>[NoProducer]</td>\n",
       "      <td>['Toei Animation']</td>\n",
       "      <td>7.04</td>\n",
       "      <td>4757.0</td>\n",
       "      <td>3968.0</td>\n",
       "      <td>11247.0</td>\n",
       "      <td>52.0</td>\n",
       "      <td>Manga</td>\n",
       "      <td>Sep 30, 2004 to Sep 29, 2005</td>\n",
       "      <td>https://myanimelist.net/anime/8/Bouken_Ou_Beet</td>\n",
       "    </tr>\n",
       "  </tbody>\n",
       "</table>\n",
       "</div>"
      ],
      "text/plain": [
       "   Anime_id                            Title  \\\n",
       "0         1                     Cowboy Bebop   \n",
       "1         5  Cowboy Bebop: Tengoku no Tobira   \n",
       "2         6                           Trigun   \n",
       "3         7               Witch Hunter Robin   \n",
       "4         8                   Bouken Ou Beet   \n",
       "\n",
       "                                               Genre  \\\n",
       "0  ['Action', 'Adventure', 'Comedy', 'Drama', 'Sc...   \n",
       "1  ['Action', 'Space', 'Drama', 'Mystery', 'Sci-Fi']   \n",
       "2  ['Action', 'Sci-Fi', 'Adventure', 'Comedy', 'D...   \n",
       "3  ['Action', 'Magic', 'Police', 'Supernatural', ...   \n",
       "4  ['Adventure', 'Fantasy', 'Shounen', 'Supernatu...   \n",
       "\n",
       "                                            Synopsis   Type  \\\n",
       "0  In the year 2071, humanity has colonized sever...     TV   \n",
       "1  Another day, another bounty—such is the life o...  Movie   \n",
       "2  Vash the Stampede is the man with a $$60,000,0...     TV   \n",
       "3  Witches are individuals with special powers li...     TV   \n",
       "4  It is the dark century and the people are suff...     TV   \n",
       "\n",
       "                       Producer              Studio  Rating  ScoredBy  \\\n",
       "0             ['Bandai Visual']         ['Sunrise']    8.81  363889.0   \n",
       "1  ['Sunrise', 'Bandai Visual']           ['Bones']    8.41  111187.0   \n",
       "2      ['Victor Entertainment']        ['Madhouse']    8.31  197451.0   \n",
       "3             ['Bandai Visual']         ['Sunrise']    7.34   31875.0   \n",
       "4                  [NoProducer]  ['Toei Animation']    7.04    4757.0   \n",
       "\n",
       "   Popularity   Members  Episodes    Source                         Aired  \\\n",
       "0        39.0  704490.0      26.0  Original   Apr 3, 1998 to Apr 24, 1999   \n",
       "1       475.0  179899.0       1.0  Original                   Sep 1, 2001   \n",
       "2       158.0  372709.0      26.0     Manga   Apr 1, 1998 to Sep 30, 1998   \n",
       "3      1278.0   74889.0      26.0  Original   Jul 2, 2002 to Dec 24, 2002   \n",
       "4      3968.0   11247.0      52.0     Manga  Sep 30, 2004 to Sep 29, 2005   \n",
       "\n",
       "                                                Link  \n",
       "0       https://myanimelist.net/anime/1/Cowboy_Bebop  \n",
       "1  https://myanimelist.net/anime/5/Cowboy_Bebop__...  \n",
       "2             https://myanimelist.net/anime/6/Trigun  \n",
       "3  https://myanimelist.net/anime/7/Witch_Hunter_R...  \n",
       "4     https://myanimelist.net/anime/8/Bouken_Ou_Beet  "
      ]
     },
     "execution_count": 91,
     "metadata": {},
     "output_type": "execute_result"
    }
   ],
   "source": [
    "anim.head()"
   ]
  },
  {
   "cell_type": "code",
   "execution_count": 92,
   "id": "e719b4d8",
   "metadata": {},
   "outputs": [
    {
     "data": {
      "image/png": "[encoded data removed]",
      "text/plain": [
       "<Figure size 720x432 with 1 Axes>"
      ]
     },
     "metadata": {},
     "output_type": "display_data"
    }
   ],
   "source": [
    "# To know number of Rating in anime data. plot into histogram\n",
    "# \n",
    "anim['Rating'].plot(kind='hist',bins=10); # for 1 bar is = 0.9 (1.0)\n",
    "plt.ylabel('Number of Rating');\n",
    "plt.xlabel('Most Anime Rating');\n",
    "plt.savefig('./anim_rating.png')"
   ]
  },
  {
   "cell_type": "code",
   "execution_count": 93,
   "id": "abed0778",
   "metadata": {},
   "outputs": [
    {
     "data": {
      "text/plain": [
       "10.0"
      ]
     },
     "execution_count": 93,
     "metadata": {},
     "output_type": "execute_result"
    }
   ],
   "source": [
    "anim['Rating'].max()"
   ]
  },
  {
   "cell_type": "code",
   "execution_count": 94,
   "id": "39f4a81b",
   "metadata": {},
   "outputs": [
    {
     "data": {
      "text/plain": [
       "1.0"
      ]
     },
     "execution_count": 94,
     "metadata": {},
     "output_type": "execute_result"
    }
   ],
   "source": [
    "anim['Rating'].min()"
   ]
  },
  {
   "cell_type": "code",
   "execution_count": 95,
   "id": "4cf81288",
   "metadata": {},
   "outputs": [
    {
     "data": {
      "text/plain": [
       "0.9"
      ]
     },
     "execution_count": 95,
     "metadata": {},
     "output_type": "execute_result"
    }
   ],
   "source": [
    "(10.0-1.0)/10"
   ]
  },
  {
   "cell_type": "code",
   "execution_count": null,
   "id": "68a46839",
   "metadata": {},
   "outputs": [],
   "source": []
  },
  {
   "cell_type": "code",
   "execution_count": 96,
   "id": "4cae5021",
   "metadata": {},
   "outputs": [
    {
     "data": {
      "image/png": "[encoded data removed]",
      "text/plain": [
       "<Figure size 720x432 with 1 Axes>"
      ]
     },
     "metadata": {},
     "output_type": "display_data"
    }
   ],
   "source": [
    "anim['Popularity'].plot(kind='hist',bins=10) # for 1 bar is = 1633.7 (1600)\n",
    "plt.ylabel('Number of Popularity');\n",
    "plt.xlabel('Most Popularity');\n",
    "plt.savefig('./anim_popularity.png')"
   ]
  },
  {
   "cell_type": "code",
   "execution_count": 97,
   "id": "6dc808a5",
   "metadata": {},
   "outputs": [
    {
     "data": {
      "text/plain": [
       "16338.0"
      ]
     },
     "execution_count": 97,
     "metadata": {},
     "output_type": "execute_result"
    }
   ],
   "source": [
    "anim['Popularity'].max()"
   ]
  },
  {
   "cell_type": "code",
   "execution_count": 98,
   "id": "9db92833",
   "metadata": {},
   "outputs": [
    {
     "data": {
      "text/plain": [
       "1.0"
      ]
     },
     "execution_count": 98,
     "metadata": {},
     "output_type": "execute_result"
    }
   ],
   "source": [
    "anim['Popularity'].min()"
   ]
  },
  {
   "cell_type": "code",
   "execution_count": 99,
   "id": "3bd96af6",
   "metadata": {},
   "outputs": [
    {
     "data": {
      "text/plain": [
       "1633.7"
      ]
     },
     "execution_count": 99,
     "metadata": {},
     "output_type": "execute_result"
    }
   ],
   "source": [
    "(16338.0-1.0)/10"
   ]
  },
  {
   "cell_type": "code",
   "execution_count": 100,
   "id": "bf00f4d6",
   "metadata": {},
   "outputs": [
    {
     "data": {
      "text/plain": [
       "16000"
      ]
     },
     "execution_count": 100,
     "metadata": {},
     "output_type": "execute_result"
    }
   ],
   "source": [
    "1600*10 # overall popularity in histogram"
   ]
  },
  {
   "cell_type": "markdown",
   "id": "c7cce146",
   "metadata": {},
   "source": [
    "# Bar Chart\n"
   ]
  },
  {
   "cell_type": "code",
   "execution_count": 101,
   "id": "f1ca7373",
   "metadata": {},
   "outputs": [
    {
     "data": {
      "text/plain": [
       "array(['Original', 'Manga', 'Light novel', 'Game', 'Visual novel',\n",
       "       '4-koma manga', 'Novel', 'Unknown', 'Other', 'Picture book',\n",
       "       'Web manga', 'Music', 'Book', 'Card game', 'Radio',\n",
       "       'Digital manga', 'NoSource'], dtype=object)"
      ]
     },
     "execution_count": 101,
     "metadata": {},
     "output_type": "execute_result"
    }
   ],
   "source": [
    "anim['Source'].unique()"
   ]
  },
  {
   "cell_type": "code",
   "execution_count": 102,
   "id": "c76fd829",
   "metadata": {},
   "outputs": [
    {
     "data": {
      "text/plain": [
       "Unknown          3993\n",
       "Original         3902\n",
       "Manga            3132\n",
       "NoSource         1927\n",
       "Visual novel      826\n",
       "Game              721\n",
       "Light novel       574\n",
       "Other             479\n",
       "Novel             379\n",
       "Music             377\n",
       "4-koma manga      232\n",
       "Web manga         185\n",
       "Picture book      107\n",
       "Book               91\n",
       "Card game          56\n",
       "Digital manga      12\n",
       "Radio               9\n",
       "Name: Source, dtype: int64"
      ]
     },
     "execution_count": 102,
     "metadata": {},
     "output_type": "execute_result"
    }
   ],
   "source": [
    "anim['Source'].value_counts()"
   ]
  },
  {
   "cell_type": "code",
   "execution_count": 103,
   "id": "743d3395",
   "metadata": {},
   "outputs": [
    {
     "data": {
      "image/png": "[encoded data removed]",
      "text/plain": [
       "<Figure size 720x432 with 1 Axes>"
      ]
     },
     "metadata": {},
     "output_type": "display_data"
    }
   ],
   "source": [
    "# To count which the most anime came from. plot into bar with head (17). 17 is total of Source\n",
    "\n",
    "anim['Source'].value_counts().head(17).plot(kind='barh')\n",
    "plt.ylabel('Source of Anime');\n",
    "plt.xlabel('Count of Source');\n",
    "plt.savefig('./anim_source.png')"
   ]
  },
  {
   "cell_type": "code",
   "execution_count": 104,
   "id": "82f49370",
   "metadata": {},
   "outputs": [
    {
     "data": {
      "text/plain": [
       "Unknown          3993\n",
       "Original         3902\n",
       "Manga            3132\n",
       "NoSource         1927\n",
       "Visual novel      826\n",
       "Game              721\n",
       "Light novel       574\n",
       "Other             479\n",
       "Novel             379\n",
       "Music             377\n",
       "4-koma manga      232\n",
       "Web manga         185\n",
       "Picture book      107\n",
       "Book               91\n",
       "Card game          56\n",
       "Digital manga      12\n",
       "Radio               9\n",
       "Name: Source, dtype: int64"
      ]
     },
     "execution_count": 104,
     "metadata": {},
     "output_type": "execute_result"
    }
   ],
   "source": [
    "anim[\"Source\"].value_counts()"
   ]
  },
  {
   "cell_type": "code",
   "execution_count": 105,
   "id": "0d97591e",
   "metadata": {},
   "outputs": [
    {
     "data": {
      "text/plain": [
       "17"
      ]
     },
     "execution_count": 105,
     "metadata": {},
     "output_type": "execute_result"
    }
   ],
   "source": [
    "anim[\"Source\"].nunique()"
   ]
  },
  {
   "cell_type": "code",
   "execution_count": 106,
   "id": "2899c1b2",
   "metadata": {},
   "outputs": [
    {
     "data": {
      "image/png": "[encoded data removed]",
      "text/plain": [
       "<Figure size 720x432 with 1 Axes>"
      ]
     },
     "metadata": {},
     "output_type": "display_data"
    }
   ],
   "source": [
    "# To count anime type. 'Unknown' type is originally data that came from link (myanimelist.net) and Notype is data that are missing\n",
    "# plot 'Type' into bar chart,so that it compare which one have the most\n",
    "\n",
    "anim['Type'].value_counts().head(8).plot(kind='barh');\n",
    "plt.ylabel('Anime Type');\n",
    "plt.xlabel('Count of Type');\n",
    "plt.savefig('./anim_type.png')"
   ]
  },
  {
   "cell_type": "code",
   "execution_count": 107,
   "id": "5af24a20",
   "metadata": {},
   "outputs": [
    {
     "data": {
      "text/plain": [
       "TV         4775\n",
       "OVA        3880\n",
       "Movie      2859\n",
       "Special    2167\n",
       "ONA        1504\n",
       "Music      1144\n",
       "NoType      634\n",
       "Unknown      39\n",
       "Name: Type, dtype: int64"
      ]
     },
     "execution_count": 107,
     "metadata": {},
     "output_type": "execute_result"
    }
   ],
   "source": [
    "anim[\"Type\"].value_counts()"
   ]
  },
  {
   "cell_type": "code",
   "execution_count": 108,
   "id": "d73b62ad",
   "metadata": {},
   "outputs": [
    {
     "data": {
      "text/plain": [
       "8"
      ]
     },
     "execution_count": 108,
     "metadata": {},
     "output_type": "execute_result"
    }
   ],
   "source": [
    "anim['Type'].nunique()"
   ]
  },
  {
   "cell_type": "code",
   "execution_count": 109,
   "id": "81b7956d",
   "metadata": {},
   "outputs": [
    {
     "data": {
      "image/png": "[encoded data removed]",
      "text/plain": [
       "<Figure size 720x432 with 1 Axes>"
      ]
     },
     "metadata": {},
     "output_type": "display_data"
    }
   ],
   "source": [
    "anim['Genre'].value_counts().head(10).plot(kind='barh');\n",
    "plt.ylabel('Anime Genre');\n",
    "plt.xlabel('Count of Genre');\n",
    "plt.savefig('./anim_type.png')"
   ]
  },
  {
   "cell_type": "code",
   "execution_count": 110,
   "id": "f54cdae7",
   "metadata": {},
   "outputs": [
    {
     "data": {
      "text/plain": [
       "['NoGenre']          2012\n",
       "['Hentai']            828\n",
       "['Music']             697\n",
       "['Comedy']            599\n",
       "['Kids']              377\n",
       "['Slice of Life']     192\n",
       "['Dementia']          188\n",
       "['Fantasy']           148\n",
       "['Kids', 'Music']     140\n",
       "['Drama']             131\n",
       "Name: Genre, dtype: int64"
      ]
     },
     "execution_count": 110,
     "metadata": {},
     "output_type": "execute_result"
    }
   ],
   "source": [
    "anim[\"Genre\"].value_counts().head(10)"
   ]
  },
  {
   "cell_type": "code",
   "execution_count": 111,
   "id": "4f87ac04",
   "metadata": {},
   "outputs": [
    {
     "data": {
      "text/plain": [
       "4578"
      ]
     },
     "execution_count": 111,
     "metadata": {},
     "output_type": "execute_result"
    }
   ],
   "source": [
    "anim['Genre'].nunique()"
   ]
  },
  {
   "cell_type": "markdown",
   "id": "f2edf5ea",
   "metadata": {},
   "source": [
    "# Class\n",
    "\n",
    "**Creating a class based on dataset**"
   ]
  },
  {
   "cell_type": "code",
   "execution_count": 112,
   "id": "c23d98c1",
   "metadata": {},
   "outputs": [],
   "source": [
    "anim.set_index('Anime_id',inplace=True)"
   ]
  },
  {
   "cell_type": "code",
   "execution_count": 113,
   "id": "874a9369",
   "metadata": {},
   "outputs": [
    {
     "data": {
      "text/html": [
       "<div>\n",
       "<style scoped>\n",
       "    .dataframe tbody tr th:only-of-type {\n",
       "        vertical-align: middle;\n",
       "    }\n",
       "\n",
       "    .dataframe tbody tr th {\n",
       "        vertical-align: top;\n",
       "    }\n",
       "\n",
       "    .dataframe thead th {\n",
       "        text-align: right;\n",
       "    }\n",
       "</style>\n",
       "<table border=\"1\" class=\"dataframe\">\n",
       "  <thead>\n",
       "    <tr style=\"text-align: right;\">\n",
       "      <th></th>\n",
       "      <th>Rating</th>\n",
       "    </tr>\n",
       "    <tr>\n",
       "      <th>Anime_id</th>\n",
       "      <th></th>\n",
       "    </tr>\n",
       "  </thead>\n",
       "  <tbody>\n",
       "    <tr>\n",
       "      <th>1</th>\n",
       "      <td>8.81</td>\n",
       "    </tr>\n",
       "    <tr>\n",
       "      <th>5</th>\n",
       "      <td>8.41</td>\n",
       "    </tr>\n",
       "    <tr>\n",
       "      <th>6</th>\n",
       "      <td>8.31</td>\n",
       "    </tr>\n",
       "    <tr>\n",
       "      <th>7</th>\n",
       "      <td>7.34</td>\n",
       "    </tr>\n",
       "    <tr>\n",
       "      <th>8</th>\n",
       "      <td>7.04</td>\n",
       "    </tr>\n",
       "  </tbody>\n",
       "</table>\n",
       "</div>"
      ],
      "text/plain": [
       "          Rating\n",
       "Anime_id        \n",
       "1           8.81\n",
       "5           8.41\n",
       "6           8.31\n",
       "7           7.34\n",
       "8           7.04"
      ]
     },
     "execution_count": 113,
     "metadata": {},
     "output_type": "execute_result"
    }
   ],
   "source": [
    "anim[['Rating']].head()"
   ]
  },
  {
   "cell_type": "code",
   "execution_count": 114,
   "id": "11529e33",
   "metadata": {},
   "outputs": [
    {
     "data": {
      "text/html": [
       "<div>\n",
       "<style scoped>\n",
       "    .dataframe tbody tr th:only-of-type {\n",
       "        vertical-align: middle;\n",
       "    }\n",
       "\n",
       "    .dataframe tbody tr th {\n",
       "        vertical-align: top;\n",
       "    }\n",
       "\n",
       "    .dataframe thead th {\n",
       "        text-align: right;\n",
       "    }\n",
       "</style>\n",
       "<table border=\"1\" class=\"dataframe\">\n",
       "  <thead>\n",
       "    <tr style=\"text-align: right;\">\n",
       "      <th></th>\n",
       "      <th>Title</th>\n",
       "      <th>Genre</th>\n",
       "      <th>Synopsis</th>\n",
       "      <th>Type</th>\n",
       "      <th>Producer</th>\n",
       "      <th>Studio</th>\n",
       "      <th>Rating</th>\n",
       "      <th>ScoredBy</th>\n",
       "      <th>Popularity</th>\n",
       "      <th>Members</th>\n",
       "      <th>Episodes</th>\n",
       "      <th>Source</th>\n",
       "      <th>Aired</th>\n",
       "      <th>Link</th>\n",
       "    </tr>\n",
       "    <tr>\n",
       "      <th>Anime_id</th>\n",
       "      <th></th>\n",
       "      <th></th>\n",
       "      <th></th>\n",
       "      <th></th>\n",
       "      <th></th>\n",
       "      <th></th>\n",
       "      <th></th>\n",
       "      <th></th>\n",
       "      <th></th>\n",
       "      <th></th>\n",
       "      <th></th>\n",
       "      <th></th>\n",
       "      <th></th>\n",
       "      <th></th>\n",
       "    </tr>\n",
       "  </thead>\n",
       "  <tbody>\n",
       "    <tr>\n",
       "      <th>1</th>\n",
       "      <td>Cowboy Bebop</td>\n",
       "      <td>['Action', 'Adventure', 'Comedy', 'Drama', 'Sc...</td>\n",
       "      <td>In the year 2071, humanity has colonized sever...</td>\n",
       "      <td>TV</td>\n",
       "      <td>['Bandai Visual']</td>\n",
       "      <td>['Sunrise']</td>\n",
       "      <td>8.81</td>\n",
       "      <td>363889.0</td>\n",
       "      <td>39.0</td>\n",
       "      <td>704490.0</td>\n",
       "      <td>26.0</td>\n",
       "      <td>Original</td>\n",
       "      <td>Apr 3, 1998 to Apr 24, 1999</td>\n",
       "      <td>https://myanimelist.net/anime/1/Cowboy_Bebop</td>\n",
       "    </tr>\n",
       "    <tr>\n",
       "      <th>5</th>\n",
       "      <td>Cowboy Bebop: Tengoku no Tobira</td>\n",
       "      <td>['Action', 'Space', 'Drama', 'Mystery', 'Sci-Fi']</td>\n",
       "      <td>Another day, another bounty—such is the life o...</td>\n",
       "      <td>Movie</td>\n",
       "      <td>['Sunrise', 'Bandai Visual']</td>\n",
       "      <td>['Bones']</td>\n",
       "      <td>8.41</td>\n",
       "      <td>111187.0</td>\n",
       "      <td>475.0</td>\n",
       "      <td>179899.0</td>\n",
       "      <td>1.0</td>\n",
       "      <td>Original</td>\n",
       "      <td>Sep 1, 2001</td>\n",
       "      <td>https://myanimelist.net/anime/5/Cowboy_Bebop__...</td>\n",
       "    </tr>\n",
       "    <tr>\n",
       "      <th>6</th>\n",
       "      <td>Trigun</td>\n",
       "      <td>['Action', 'Sci-Fi', 'Adventure', 'Comedy', 'D...</td>\n",
       "      <td>Vash the Stampede is the man with a $$60,000,0...</td>\n",
       "      <td>TV</td>\n",
       "      <td>['Victor Entertainment']</td>\n",
       "      <td>['Madhouse']</td>\n",
       "      <td>8.31</td>\n",
       "      <td>197451.0</td>\n",
       "      <td>158.0</td>\n",
       "      <td>372709.0</td>\n",
       "      <td>26.0</td>\n",
       "      <td>Manga</td>\n",
       "      <td>Apr 1, 1998 to Sep 30, 1998</td>\n",
       "      <td>https://myanimelist.net/anime/6/Trigun</td>\n",
       "    </tr>\n",
       "    <tr>\n",
       "      <th>7</th>\n",
       "      <td>Witch Hunter Robin</td>\n",
       "      <td>['Action', 'Magic', 'Police', 'Supernatural', ...</td>\n",
       "      <td>Witches are individuals with special powers li...</td>\n",
       "      <td>TV</td>\n",
       "      <td>['Bandai Visual']</td>\n",
       "      <td>['Sunrise']</td>\n",
       "      <td>7.34</td>\n",
       "      <td>31875.0</td>\n",
       "      <td>1278.0</td>\n",
       "      <td>74889.0</td>\n",
       "      <td>26.0</td>\n",
       "      <td>Original</td>\n",
       "      <td>Jul 2, 2002 to Dec 24, 2002</td>\n",
       "      <td>https://myanimelist.net/anime/7/Witch_Hunter_R...</td>\n",
       "    </tr>\n",
       "    <tr>\n",
       "      <th>8</th>\n",
       "      <td>Bouken Ou Beet</td>\n",
       "      <td>['Adventure', 'Fantasy', 'Shounen', 'Supernatu...</td>\n",
       "      <td>It is the dark century and the people are suff...</td>\n",
       "      <td>TV</td>\n",
       "      <td>[NoProducer]</td>\n",
       "      <td>['Toei Animation']</td>\n",
       "      <td>7.04</td>\n",
       "      <td>4757.0</td>\n",
       "      <td>3968.0</td>\n",
       "      <td>11247.0</td>\n",
       "      <td>52.0</td>\n",
       "      <td>Manga</td>\n",
       "      <td>Sep 30, 2004 to Sep 29, 2005</td>\n",
       "      <td>https://myanimelist.net/anime/8/Bouken_Ou_Beet</td>\n",
       "    </tr>\n",
       "  </tbody>\n",
       "</table>\n",
       "</div>"
      ],
      "text/plain": [
       "                                    Title  \\\n",
       "Anime_id                                    \n",
       "1                            Cowboy Bebop   \n",
       "5         Cowboy Bebop: Tengoku no Tobira   \n",
       "6                                  Trigun   \n",
       "7                      Witch Hunter Robin   \n",
       "8                          Bouken Ou Beet   \n",
       "\n",
       "                                                      Genre  \\\n",
       "Anime_id                                                      \n",
       "1         ['Action', 'Adventure', 'Comedy', 'Drama', 'Sc...   \n",
       "5         ['Action', 'Space', 'Drama', 'Mystery', 'Sci-Fi']   \n",
       "6         ['Action', 'Sci-Fi', 'Adventure', 'Comedy', 'D...   \n",
       "7         ['Action', 'Magic', 'Police', 'Supernatural', ...   \n",
       "8         ['Adventure', 'Fantasy', 'Shounen', 'Supernatu...   \n",
       "\n",
       "                                                   Synopsis   Type  \\\n",
       "Anime_id                                                             \n",
       "1         In the year 2071, humanity has colonized sever...     TV   \n",
       "5         Another day, another bounty—such is the life o...  Movie   \n",
       "6         Vash the Stampede is the man with a $$60,000,0...     TV   \n",
       "7         Witches are individuals with special powers li...     TV   \n",
       "8         It is the dark century and the people are suff...     TV   \n",
       "\n",
       "                              Producer              Studio  Rating  ScoredBy  \\\n",
       "Anime_id                                                                       \n",
       "1                    ['Bandai Visual']         ['Sunrise']    8.81  363889.0   \n",
       "5         ['Sunrise', 'Bandai Visual']           ['Bones']    8.41  111187.0   \n",
       "6             ['Victor Entertainment']        ['Madhouse']    8.31  197451.0   \n",
       "7                    ['Bandai Visual']         ['Sunrise']    7.34   31875.0   \n",
       "8                         [NoProducer]  ['Toei Animation']    7.04    4757.0   \n",
       "\n",
       "          Popularity   Members  Episodes    Source  \\\n",
       "Anime_id                                             \n",
       "1               39.0  704490.0      26.0  Original   \n",
       "5              475.0  179899.0       1.0  Original   \n",
       "6              158.0  372709.0      26.0     Manga   \n",
       "7             1278.0   74889.0      26.0  Original   \n",
       "8             3968.0   11247.0      52.0     Manga   \n",
       "\n",
       "                                 Aired  \\\n",
       "Anime_id                                 \n",
       "1          Apr 3, 1998 to Apr 24, 1999   \n",
       "5                          Sep 1, 2001   \n",
       "6          Apr 1, 1998 to Sep 30, 1998   \n",
       "7          Jul 2, 2002 to Dec 24, 2002   \n",
       "8         Sep 30, 2004 to Sep 29, 2005   \n",
       "\n",
       "                                                       Link  \n",
       "Anime_id                                                     \n",
       "1              https://myanimelist.net/anime/1/Cowboy_Bebop  \n",
       "5         https://myanimelist.net/anime/5/Cowboy_Bebop__...  \n",
       "6                    https://myanimelist.net/anime/6/Trigun  \n",
       "7         https://myanimelist.net/anime/7/Witch_Hunter_R...  \n",
       "8            https://myanimelist.net/anime/8/Bouken_Ou_Beet  "
      ]
     },
     "execution_count": 114,
     "metadata": {},
     "output_type": "execute_result"
    }
   ],
   "source": [
    "anim.head()"
   ]
  },
  {
   "cell_type": "code",
   "execution_count": 115,
   "id": "eec9caca",
   "metadata": {},
   "outputs": [
    {
     "data": {
      "text/html": [
       "<div>\n",
       "<style scoped>\n",
       "    .dataframe tbody tr th:only-of-type {\n",
       "        vertical-align: middle;\n",
       "    }\n",
       "\n",
       "    .dataframe tbody tr th {\n",
       "        vertical-align: top;\n",
       "    }\n",
       "\n",
       "    .dataframe thead th {\n",
       "        text-align: right;\n",
       "    }\n",
       "</style>\n",
       "<table border=\"1\" class=\"dataframe\">\n",
       "  <thead>\n",
       "    <tr style=\"text-align: right;\">\n",
       "      <th></th>\n",
       "      <th>Rating</th>\n",
       "    </tr>\n",
       "    <tr>\n",
       "      <th>Title</th>\n",
       "      <th></th>\n",
       "    </tr>\n",
       "  </thead>\n",
       "  <tbody>\n",
       "    <tr>\n",
       "      <th>Manichi ga Tsurai Kimochi Wakarimasu ka: Yurusenai! Net Ijime</th>\n",
       "      <td>10.00</td>\n",
       "    </tr>\n",
       "    <tr>\n",
       "      <th>Kyouiku Eiga-sai Jushou Anime Series</th>\n",
       "      <td>10.00</td>\n",
       "    </tr>\n",
       "    <tr>\n",
       "      <th>Kuunyan no Koutsuu Anzen: Tadashii Jitensha no Nori Kata</th>\n",
       "      <td>10.00</td>\n",
       "    </tr>\n",
       "    <tr>\n",
       "      <th>Ittekimasu.</th>\n",
       "      <td>10.00</td>\n",
       "    </tr>\n",
       "    <tr>\n",
       "      <th>Ling Feng Zhe</th>\n",
       "      <td>10.00</td>\n",
       "    </tr>\n",
       "    <tr>\n",
       "      <th>Xiao Hua Xian</th>\n",
       "      <td>10.00</td>\n",
       "    </tr>\n",
       "    <tr>\n",
       "      <th>Hashire John</th>\n",
       "      <td>9.50</td>\n",
       "    </tr>\n",
       "    <tr>\n",
       "      <th>Tat-chan - Momo-chan no Fushigina Taiken</th>\n",
       "      <td>9.50</td>\n",
       "    </tr>\n",
       "    <tr>\n",
       "      <th>Fullmetal Alchemist: Brotherhood</th>\n",
       "      <td>9.25</td>\n",
       "    </tr>\n",
       "    <tr>\n",
       "      <th>Okaachan Gomen ne</th>\n",
       "      <td>9.20</td>\n",
       "    </tr>\n",
       "    <tr>\n",
       "      <th>Kimi no Na wa.</th>\n",
       "      <td>9.19</td>\n",
       "    </tr>\n",
       "    <tr>\n",
       "      <th>Steins;Gate 0</th>\n",
       "      <td>9.16</td>\n",
       "    </tr>\n",
       "    <tr>\n",
       "      <th>Gintama°</th>\n",
       "      <td>9.15</td>\n",
       "    </tr>\n",
       "    <tr>\n",
       "      <th>Steins;Gate</th>\n",
       "      <td>9.14</td>\n",
       "    </tr>\n",
       "    <tr>\n",
       "      <th>Gintama'</th>\n",
       "      <td>9.11</td>\n",
       "    </tr>\n",
       "    <tr>\n",
       "      <th>Hunter x Hunter (2011)</th>\n",
       "      <td>9.11</td>\n",
       "    </tr>\n",
       "    <tr>\n",
       "      <th>Ginga Eiyuu Densetsu</th>\n",
       "      <td>9.11</td>\n",
       "    </tr>\n",
       "    <tr>\n",
       "      <th>3-gatsu no Lion 2nd Season</th>\n",
       "      <td>9.10</td>\n",
       "    </tr>\n",
       "    <tr>\n",
       "      <th>Gintama': Enchousen</th>\n",
       "      <td>9.07</td>\n",
       "    </tr>\n",
       "    <tr>\n",
       "      <th>Koe no Katachi</th>\n",
       "      <td>9.04</td>\n",
       "    </tr>\n",
       "    <tr>\n",
       "      <th>Gintama Movie 2: Kanketsu-hen - Yorozuya yo Eien Nare</th>\n",
       "      <td>9.04</td>\n",
       "    </tr>\n",
       "    <tr>\n",
       "      <th>Gintama.</th>\n",
       "      <td>9.02</td>\n",
       "    </tr>\n",
       "    <tr>\n",
       "      <th>Owarimonogatari 2nd Season</th>\n",
       "      <td>9.02</td>\n",
       "    </tr>\n",
       "    <tr>\n",
       "      <th>Clannad: After Story</th>\n",
       "      <td>9.01</td>\n",
       "    </tr>\n",
       "    <tr>\n",
       "      <th>Gintama</th>\n",
       "      <td>9.01</td>\n",
       "    </tr>\n",
       "    <tr>\n",
       "      <th>Haikyuu!!: Karasuno Koukou vs. Shiratorizawa Gakuen Koukou</th>\n",
       "      <td>8.99</td>\n",
       "    </tr>\n",
       "    <tr>\n",
       "      <th>Code Geass: Hangyaku no Lelouch R2</th>\n",
       "      <td>8.95</td>\n",
       "    </tr>\n",
       "    <tr>\n",
       "      <th>Sen to Chihiro no Kamikakushi</th>\n",
       "      <td>8.92</td>\n",
       "    </tr>\n",
       "    <tr>\n",
       "      <th>Made in Abyss</th>\n",
       "      <td>8.91</td>\n",
       "    </tr>\n",
       "    <tr>\n",
       "      <th>Kizumonogatari III: Reiketsu-hen</th>\n",
       "      <td>8.88</td>\n",
       "    </tr>\n",
       "    <tr>\n",
       "      <th>Shigatsu wa Kimi no Uso</th>\n",
       "      <td>8.88</td>\n",
       "    </tr>\n",
       "    <tr>\n",
       "      <th>Haikyuu!! Second Season</th>\n",
       "      <td>8.87</td>\n",
       "    </tr>\n",
       "    <tr>\n",
       "      <th>Shouwa Genroku Rakugo Shinjuu: Sukeroku Futatabi-hen</th>\n",
       "      <td>8.87</td>\n",
       "    </tr>\n",
       "    <tr>\n",
       "      <th>Gintama.: Shirogane no Tamashii-hen</th>\n",
       "      <td>8.85</td>\n",
       "    </tr>\n",
       "    <tr>\n",
       "      <th>Mushishi Zoku Shou 2nd Season</th>\n",
       "      <td>8.83</td>\n",
       "    </tr>\n",
       "    <tr>\n",
       "      <th>Cowboy Bebop</th>\n",
       "      <td>8.81</td>\n",
       "    </tr>\n",
       "    <tr>\n",
       "      <th>Mononoke Hime</th>\n",
       "      <td>8.80</td>\n",
       "    </tr>\n",
       "    <tr>\n",
       "      <th>Hajime no Ippo</th>\n",
       "      <td>8.80</td>\n",
       "    </tr>\n",
       "    <tr>\n",
       "      <th>Code Geass: Hangyaku no Lelouch</th>\n",
       "      <td>8.79</td>\n",
       "    </tr>\n",
       "    <tr>\n",
       "      <th>Rurouni Kenshin: Meiji Kenkaku Romantan - Tsuioku-hen</th>\n",
       "      <td>8.79</td>\n",
       "    </tr>\n",
       "    <tr>\n",
       "      <th>Mushishi Zoku Shou</th>\n",
       "      <td>8.77</td>\n",
       "    </tr>\n",
       "    <tr>\n",
       "      <th>Ookami Kodomo no Ame to Yuki</th>\n",
       "      <td>8.77</td>\n",
       "    </tr>\n",
       "    <tr>\n",
       "      <th>Monogatari Series: Second Season</th>\n",
       "      <td>8.77</td>\n",
       "    </tr>\n",
       "    <tr>\n",
       "      <th>Boku no Hero Academia 2nd Season</th>\n",
       "      <td>8.76</td>\n",
       "    </tr>\n",
       "    <tr>\n",
       "      <th>Namae... Sore wa Moeru Inochi</th>\n",
       "      <td>8.75</td>\n",
       "    </tr>\n",
       "    <tr>\n",
       "      <th>Natsume Yuujinchou Roku</th>\n",
       "      <td>8.74</td>\n",
       "    </tr>\n",
       "    <tr>\n",
       "      <th>Tengen Toppa Gurren Lagann</th>\n",
       "      <td>8.74</td>\n",
       "    </tr>\n",
       "    <tr>\n",
       "      <th>Great Teacher Onizuka</th>\n",
       "      <td>8.74</td>\n",
       "    </tr>\n",
       "    <tr>\n",
       "      <th>Mushishi</th>\n",
       "      <td>8.74</td>\n",
       "    </tr>\n",
       "    <tr>\n",
       "      <th>No Game No Life: Zero</th>\n",
       "      <td>8.74</td>\n",
       "    </tr>\n",
       "  </tbody>\n",
       "</table>\n",
       "</div>"
      ],
      "text/plain": [
       "                                                    Rating\n",
       "Title                                                     \n",
       "Manichi ga Tsurai Kimochi Wakarimasu ka: Yuruse...   10.00\n",
       "Kyouiku Eiga-sai Jushou Anime Series                 10.00\n",
       "Kuunyan no Koutsuu Anzen: Tadashii Jitensha no ...   10.00\n",
       "Ittekimasu.                                          10.00\n",
       "Ling Feng Zhe                                        10.00\n",
       "Xiao Hua Xian                                        10.00\n",
       "Hashire John                                          9.50\n",
       "Tat-chan - Momo-chan no Fushigina Taiken              9.50\n",
       "Fullmetal Alchemist: Brotherhood                      9.25\n",
       "Okaachan Gomen ne                                     9.20\n",
       "Kimi no Na wa.                                        9.19\n",
       "Steins;Gate 0                                         9.16\n",
       "Gintama°                                              9.15\n",
       "Steins;Gate                                           9.14\n",
       "Gintama'                                              9.11\n",
       "Hunter x Hunter (2011)                                9.11\n",
       "Ginga Eiyuu Densetsu                                  9.11\n",
       "3-gatsu no Lion 2nd Season                            9.10\n",
       "Gintama': Enchousen                                   9.07\n",
       "Koe no Katachi                                        9.04\n",
       "Gintama Movie 2: Kanketsu-hen - Yorozuya yo Eie...    9.04\n",
       "Gintama.                                              9.02\n",
       "Owarimonogatari 2nd Season                            9.02\n",
       "Clannad: After Story                                  9.01\n",
       "Gintama                                               9.01\n",
       "Haikyuu!!: Karasuno Koukou vs. Shiratorizawa Ga...    8.99\n",
       "Code Geass: Hangyaku no Lelouch R2                    8.95\n",
       "Sen to Chihiro no Kamikakushi                         8.92\n",
       "Made in Abyss                                         8.91\n",
       "Kizumonogatari III: Reiketsu-hen                      8.88\n",
       "Shigatsu wa Kimi no Uso                               8.88\n",
       "Haikyuu!! Second Season                               8.87\n",
       "Shouwa Genroku Rakugo Shinjuu: Sukeroku Futatab...    8.87\n",
       "Gintama.: Shirogane no Tamashii-hen                   8.85\n",
       "Mushishi Zoku Shou 2nd Season                         8.83\n",
       "Cowboy Bebop                                          8.81\n",
       "Mononoke Hime                                         8.80\n",
       "Hajime no Ippo                                        8.80\n",
       "Code Geass: Hangyaku no Lelouch                       8.79\n",
       "Rurouni Kenshin: Meiji Kenkaku Romantan - Tsuio...    8.79\n",
       "Mushishi Zoku Shou                                    8.77\n",
       "Ookami Kodomo no Ame to Yuki                          8.77\n",
       "Monogatari Series: Second Season                      8.77\n",
       "Boku no Hero Academia 2nd Season                      8.76\n",
       "Namae... Sore wa Moeru Inochi                         8.75\n",
       "Natsume Yuujinchou Roku                               8.74\n",
       "Tengen Toppa Gurren Lagann                            8.74\n",
       "Great Teacher Onizuka                                 8.74\n",
       "Mushishi                                              8.74\n",
       "No Game No Life: Zero                                 8.74"
      ]
     },
     "execution_count": 115,
     "metadata": {},
     "output_type": "execute_result"
    }
   ],
   "source": [
    "anim[['Title','Rating']].groupby('Title').max().sort_values('Rating', ascending=False).head(50)"
   ]
  },
  {
   "cell_type": "code",
   "execution_count": 116,
   "id": "57d0536f",
   "metadata": {},
   "outputs": [
    {
     "data": {
      "text/plain": [
       "array([35174], dtype=int64)"
      ]
     },
     "execution_count": 116,
     "metadata": {},
     "output_type": "execute_result"
    }
   ],
   "source": [
    "anim[anim['Title']=='Ittekimasu.'].index.values"
   ]
  },
  {
   "cell_type": "code",
   "execution_count": 117,
   "id": "098b329c",
   "metadata": {},
   "outputs": [
    {
     "data": {
      "text/plain": [
       "array([5114], dtype=int64)"
      ]
     },
     "execution_count": 117,
     "metadata": {},
     "output_type": "execute_result"
    }
   ],
   "source": [
    "anim[anim['Title']=='Fullmetal Alchemist: Brotherhood'].index.values"
   ]
  },
  {
   "cell_type": "code",
   "execution_count": 118,
   "id": "2cfe8f9d",
   "metadata": {},
   "outputs": [
    {
     "data": {
      "text/plain": [
       "array([9969], dtype=int64)"
      ]
     },
     "execution_count": 118,
     "metadata": {},
     "output_type": "execute_result"
    }
   ],
   "source": [
    "anim[anim['Title']== \"Gintama'\"].index.values"
   ]
  },
  {
   "cell_type": "code",
   "execution_count": 119,
   "id": "3e151c83",
   "metadata": {},
   "outputs": [
    {
     "data": {
      "text/plain": [
       "array([28891], dtype=int64)"
      ]
     },
     "execution_count": 119,
     "metadata": {},
     "output_type": "execute_result"
    }
   ],
   "source": [
    "anim[anim['Title']== \"Haikyuu!! Second Season\"].index.values"
   ]
  },
  {
   "cell_type": "code",
   "execution_count": 120,
   "id": "45c4624b",
   "metadata": {},
   "outputs": [
    {
     "data": {
      "text/plain": [
       "array([245], dtype=int64)"
      ]
     },
     "execution_count": 120,
     "metadata": {},
     "output_type": "execute_result"
    }
   ],
   "source": [
    "anim[anim['Title']== \"Great Teacher Onizuka\"].index.values"
   ]
  },
  {
   "cell_type": "code",
   "execution_count": 121,
   "id": "aa002a67",
   "metadata": {},
   "outputs": [
    {
     "data": {
      "text/plain": [
       "Title                                               Ittekimasu.\n",
       "Genre                                                  ['Kids']\n",
       "Synopsis      A kindergartner leaves for school and goes thr...\n",
       "Type                                                        OVA\n",
       "Producer                                           [NoProducer]\n",
       "Studio                                               [NoStudio]\n",
       "Rating                                                     10.0\n",
       "ScoredBy                                                    1.0\n",
       "Popularity                                              15981.0\n",
       "Members                                                    29.0\n",
       "Episodes                                                    1.0\n",
       "Source                                                 Original\n",
       "Aired                                             Not available\n",
       "Link             https://myanimelist.net/anime/35174/Ittekimasu\n",
       "Name: 35174, dtype: object"
      ]
     },
     "execution_count": 121,
     "metadata": {},
     "output_type": "execute_result"
    }
   ],
   "source": [
    "anim.loc[35174,:]"
   ]
  },
  {
   "cell_type": "code",
   "execution_count": 122,
   "id": "142dc25d",
   "metadata": {},
   "outputs": [
    {
     "data": {
      "text/plain": [
       "Title                          Fullmetal Alchemist: Brotherhood\n",
       "Genre         ['Action', 'Military', 'Adventure', 'Comedy', ...\n",
       "Synopsis      \"In order for something to be obtained, someth...\n",
       "Type                                                         TV\n",
       "Producer      ['Aniplex', 'Square Enix', 'Mainichi Broadcast...\n",
       "Studio                                                ['Bones']\n",
       "Rating                                                     9.25\n",
       "ScoredBy                                               730784.0\n",
       "Popularity                                                  4.0\n",
       "Members                                               1194518.0\n",
       "Episodes                                                   64.0\n",
       "Source                                                    Manga\n",
       "Aired                                Apr 5, 2009 to Jul 4, 2010\n",
       "Link          https://myanimelist.net/anime/5114/Fullmetal_A...\n",
       "Name: 5114, dtype: object"
      ]
     },
     "execution_count": 122,
     "metadata": {},
     "output_type": "execute_result"
    }
   ],
   "source": [
    "anim.loc[5114,:]"
   ]
  },
  {
   "cell_type": "code",
   "execution_count": 123,
   "id": "7e86a2bd",
   "metadata": {},
   "outputs": [
    {
     "data": {
      "text/plain": [
       "Title                                                  Gintama'\n",
       "Genre         ['Action', 'Sci-Fi', 'Comedy', 'Historical', '...\n",
       "Synopsis      After a one-year hiatus, Shinpachi Shimura ret...\n",
       "Type                                                         TV\n",
       "Producer      ['TV Tokyo', 'Aniplex', 'Dentsu', 'Trinity Sou...\n",
       "Studio                                              ['Sunrise']\n",
       "Rating                                                     9.11\n",
       "ScoredBy                                                91661.0\n",
       "Popularity                                                353.0\n",
       "Members                                                214730.0\n",
       "Episodes                                                   51.0\n",
       "Source                                                    Manga\n",
       "Aired                               Apr 4, 2011 to Mar 26, 2012\n",
       "Link                 https://myanimelist.net/anime/9969/Gintama\n",
       "Name: 9969, dtype: object"
      ]
     },
     "execution_count": 123,
     "metadata": {},
     "output_type": "execute_result"
    }
   ],
   "source": [
    "anim.loc[9969,:]"
   ]
  },
  {
   "cell_type": "code",
   "execution_count": 124,
   "id": "8a67a800",
   "metadata": {},
   "outputs": [
    {
     "data": {
      "text/plain": [
       "Title                                   Haikyuu!! Second Season\n",
       "Genre         ['Comedy', 'Sports', 'Drama', 'School', 'Shoun...\n",
       "Synopsis      Following their participation at the Inter-Hig...\n",
       "Type                                                         TV\n",
       "Producer                         ['TOHO animation', 'Shueisha']\n",
       "Studio                                       ['Production I.G']\n",
       "Rating                                                     8.87\n",
       "ScoredBy                                               204532.0\n",
       "Popularity                                                141.0\n",
       "Members                                                332116.0\n",
       "Episodes                                                   25.0\n",
       "Source                                                    Manga\n",
       "Aired                               Oct 4, 2015 to Mar 27, 2016\n",
       "Link          https://myanimelist.net/anime/28891/Haikyuu_Se...\n",
       "Name: 28891, dtype: object"
      ]
     },
     "execution_count": 124,
     "metadata": {},
     "output_type": "execute_result"
    }
   ],
   "source": [
    "anim.loc[28891,:]"
   ]
  },
  {
   "cell_type": "code",
   "execution_count": 125,
   "id": "4bbaf4d7",
   "metadata": {},
   "outputs": [
    {
     "data": {
      "text/plain": [
       "Title                                     Great Teacher Onizuka\n",
       "Genre         ['Comedy', 'Drama', 'School', 'Shounen', 'Slic...\n",
       "Synopsis      Onizuka is a reformed biker gang leader who ha...\n",
       "Type                                                         TV\n",
       "Producer                                 ['Aniplex', 'Fuji TV']\n",
       "Studio                                       ['Studio Pierrot']\n",
       "Rating                                                     8.74\n",
       "ScoredBy                                               186958.0\n",
       "Popularity                                                163.0\n",
       "Members                                                359917.0\n",
       "Episodes                                                   43.0\n",
       "Source                                                    Manga\n",
       "Aired                              Jun 30, 1999 to Sep 17, 2000\n",
       "Link          https://myanimelist.net/anime/245/Great_Teache...\n",
       "Name: 245, dtype: object"
      ]
     },
     "execution_count": 125,
     "metadata": {},
     "output_type": "execute_result"
    }
   ],
   "source": [
    "anim.loc[245,:]"
   ]
  },
  {
   "cell_type": "code",
   "execution_count": 126,
   "id": "e980e217",
   "metadata": {},
   "outputs": [],
   "source": [
    "# using class to create anime list based on dataset\n",
    "# anime list = title,genre,type,rating,popularity and episodes\n",
    "\n",
    "class anime:\n",
    "    anime_total = 0\n",
    "    def __init__(self,title=\" \",genre= \" \",types= \" \",source = \" \",rating=0,popularity=0,episodes=0):\n",
    "        self.title=title\n",
    "        self.genre=genre\n",
    "        self.source=source\n",
    "        self.type=types       \n",
    "        self.rating=rating        \n",
    "        self.popularity=popularity\n",
    "        self.episodes=episodes\n",
    "        anime.anime_total +=1\n",
    "        print(f\"New series:{title} is released\") # create title,rating,popularity,episodes\n",
    "        \n",
    "    def total_anime(self):\n",
    "        print(f\"This is anime {self.title}\") # show the total of anime created   \n",
    "        print(f\"There is total of {anime.anime_total} anime\")\n",
    "        \n",
    "    def rate_countup(self,rating_gain): # modify new rating stats\n",
    "        self.rating = rating_gain + self.rating\n",
    "        self.rating = round(self.rating,2)\n",
    "        print(f\"anime {self.title} got new rating by {self.rating}\")  # if rating more than 0, add rating\n",
    "        \n",
    "    def rate_countdown(self,rating_drop):\n",
    "        self.rating = self.rating - rating_drop\n",
    "        self.rating = round(self.rating,2)\n",
    "        print(f\"anime {self.title} rating drop by {self.rating}\") # if rating less than 0, drop rating\n",
    "        \n",
    "    def pop_countup(self,popular_gain):\n",
    "        self.popularity = popular_gain + self.popularity\n",
    "        self.popularity = round(self.popularity,1)\n",
    "        print(f\"anime {self.title} gain popularity by {self.popularity}\") # if popularity more than 0, add popularity\n",
    "        \n",
    "    def pop_countdown(self,popular_drop):\n",
    "        self.popularity = self.popularity - popular_drop\n",
    "        self.popularity = round(self.popularity,1)\n",
    "        print(f\"anime {self.title} popularity drop by {self.popularity}\") # if popularity less than 0, drop popularity\n",
    "            "
   ]
  },
  {
   "cell_type": "code",
   "execution_count": 127,
   "id": "c2a44c7a",
   "metadata": {},
   "outputs": [
    {
     "name": "stdout",
     "output_type": "stream",
     "text": [
      "New series:Ittekimasu is released\n"
     ]
    }
   ],
   "source": [
    "anime_ittekimasu= anime('Ittekimasu',\"Kids\",\"OVA\",\"Original\",10.0,15981.0,64.0)"
   ]
  },
  {
   "cell_type": "code",
   "execution_count": 128,
   "id": "3ddffc03",
   "metadata": {},
   "outputs": [
    {
     "name": "stdout",
     "output_type": "stream",
     "text": [
      "This is anime Ittekimasu\n",
      "There is total of 1 anime\n"
     ]
    }
   ],
   "source": [
    "anime_ittekimasu.total_anime()"
   ]
  },
  {
   "cell_type": "code",
   "execution_count": 129,
   "id": "f1a2967d",
   "metadata": {},
   "outputs": [
    {
     "name": "stdout",
     "output_type": "stream",
     "text": [
      "anime Ittekimasu got new rating by 10.0\n"
     ]
    }
   ],
   "source": [
    "anime_ittekimasu.rate_countup(0)"
   ]
  },
  {
   "cell_type": "code",
   "execution_count": 130,
   "id": "75021e2b",
   "metadata": {},
   "outputs": [
    {
     "name": "stdout",
     "output_type": "stream",
     "text": [
      "anime Ittekimasu rating drop by 9.3\n"
     ]
    }
   ],
   "source": [
    "anime_ittekimasu.rate_countdown(0.7)"
   ]
  },
  {
   "cell_type": "code",
   "execution_count": 131,
   "id": "0be0d42e",
   "metadata": {},
   "outputs": [
    {
     "data": {
      "text/plain": [
       "9.3"
      ]
     },
     "execution_count": 131,
     "metadata": {},
     "output_type": "execute_result"
    }
   ],
   "source": [
    "anime_ittekimasu.rating"
   ]
  },
  {
   "cell_type": "code",
   "execution_count": 132,
   "id": "64200e42",
   "metadata": {},
   "outputs": [
    {
     "name": "stdout",
     "output_type": "stream",
     "text": [
      "anime Ittekimasu gain popularity by 16001.0\n"
     ]
    }
   ],
   "source": [
    "anime_ittekimasu.pop_countup(20)"
   ]
  },
  {
   "cell_type": "code",
   "execution_count": 133,
   "id": "5c885cdb",
   "metadata": {},
   "outputs": [
    {
     "name": "stdout",
     "output_type": "stream",
     "text": [
      "anime Ittekimasu popularity drop by 15961.0\n"
     ]
    }
   ],
   "source": [
    "anime_ittekimasu.pop_countdown(40)"
   ]
  },
  {
   "cell_type": "code",
   "execution_count": 134,
   "id": "bf10a93e",
   "metadata": {},
   "outputs": [
    {
     "data": {
      "text/plain": [
       "15961.0"
      ]
     },
     "execution_count": 134,
     "metadata": {},
     "output_type": "execute_result"
    }
   ],
   "source": [
    "anime_ittekimasu.popularity"
   ]
  },
  {
   "cell_type": "code",
   "execution_count": null,
   "id": "2b8e0f91",
   "metadata": {},
   "outputs": [],
   "source": []
  },
  {
   "cell_type": "code",
   "execution_count": 135,
   "id": "e3fbc8dd",
   "metadata": {},
   "outputs": [
    {
     "name": "stdout",
     "output_type": "stream",
     "text": [
      "New series:Fullmetal Alchemist: Brotherhood is released\n"
     ]
    }
   ],
   "source": [
    "anime_fullmetal = anime('Fullmetal Alchemist: Brotherhood',\"Action\",\"TV\",\"Manga\",9.25,4.0,64.0)"
   ]
  },
  {
   "cell_type": "code",
   "execution_count": 136,
   "id": "b554d7f4",
   "metadata": {},
   "outputs": [
    {
     "name": "stdout",
     "output_type": "stream",
     "text": [
      "This is anime Fullmetal Alchemist: Brotherhood\n",
      "There is total of 2 anime\n"
     ]
    }
   ],
   "source": [
    "anime_fullmetal.total_anime()"
   ]
  },
  {
   "cell_type": "code",
   "execution_count": 137,
   "id": "5541b22d",
   "metadata": {},
   "outputs": [
    {
     "name": "stdout",
     "output_type": "stream",
     "text": [
      "anime Fullmetal Alchemist: Brotherhood got new rating by 9.25\n"
     ]
    }
   ],
   "source": [
    "anime_fullmetal.rate_countup(0)"
   ]
  },
  {
   "cell_type": "code",
   "execution_count": 138,
   "id": "a76f04a0",
   "metadata": {},
   "outputs": [
    {
     "name": "stdout",
     "output_type": "stream",
     "text": [
      "anime Fullmetal Alchemist: Brotherhood rating drop by 5.25\n"
     ]
    }
   ],
   "source": [
    "anime_fullmetal.rate_countdown(4)"
   ]
  },
  {
   "cell_type": "code",
   "execution_count": 139,
   "id": "ebd45c4f",
   "metadata": {},
   "outputs": [
    {
     "data": {
      "text/plain": [
       "5.25"
      ]
     },
     "execution_count": 139,
     "metadata": {},
     "output_type": "execute_result"
    }
   ],
   "source": [
    "anime_fullmetal.rating"
   ]
  },
  {
   "cell_type": "code",
   "execution_count": 140,
   "id": "cb5cf8d9",
   "metadata": {},
   "outputs": [
    {
     "name": "stdout",
     "output_type": "stream",
     "text": [
      "anime Fullmetal Alchemist: Brotherhood gain popularity by 19.0\n"
     ]
    }
   ],
   "source": [
    "anime_fullmetal.pop_countup(15)"
   ]
  },
  {
   "cell_type": "code",
   "execution_count": 141,
   "id": "b041e6df",
   "metadata": {},
   "outputs": [
    {
     "name": "stdout",
     "output_type": "stream",
     "text": [
      "anime Fullmetal Alchemist: Brotherhood popularity drop by 19.0\n"
     ]
    }
   ],
   "source": [
    "anime_fullmetal.pop_countdown(0)"
   ]
  },
  {
   "cell_type": "code",
   "execution_count": 142,
   "id": "1263edaa",
   "metadata": {},
   "outputs": [
    {
     "data": {
      "text/plain": [
       "19.0"
      ]
     },
     "execution_count": 142,
     "metadata": {},
     "output_type": "execute_result"
    }
   ],
   "source": [
    "anime_fullmetal.popularity"
   ]
  },
  {
   "cell_type": "code",
   "execution_count": null,
   "id": "1a2cbc9f",
   "metadata": {},
   "outputs": [],
   "source": []
  },
  {
   "cell_type": "code",
   "execution_count": 143,
   "id": "1145b9fa",
   "metadata": {},
   "outputs": [
    {
     "name": "stdout",
     "output_type": "stream",
     "text": [
      "New series:Gintama is released\n"
     ]
    }
   ],
   "source": [
    "anime_gintama = anime(\"Gintama\",\"Action\",\"TV\",\"Manga\",9.11,353.0,51.0)"
   ]
  },
  {
   "cell_type": "code",
   "execution_count": 144,
   "id": "d1cf6cc3",
   "metadata": {},
   "outputs": [
    {
     "name": "stdout",
     "output_type": "stream",
     "text": [
      "This is anime Gintama\n",
      "There is total of 3 anime\n"
     ]
    }
   ],
   "source": [
    "anime_gintama.total_anime()"
   ]
  },
  {
   "cell_type": "code",
   "execution_count": 145,
   "id": "1726ae4e",
   "metadata": {},
   "outputs": [
    {
     "name": "stdout",
     "output_type": "stream",
     "text": [
      "anime Gintama got new rating by 9.11\n"
     ]
    }
   ],
   "source": [
    "anime_gintama.rate_countup(0)"
   ]
  },
  {
   "cell_type": "code",
   "execution_count": 146,
   "id": "636dbf60",
   "metadata": {},
   "outputs": [
    {
     "name": "stdout",
     "output_type": "stream",
     "text": [
      "anime Gintama rating drop by 5.11\n"
     ]
    }
   ],
   "source": [
    "anime_gintama.rate_countdown(4)"
   ]
  },
  {
   "cell_type": "code",
   "execution_count": 147,
   "id": "3bfd060d",
   "metadata": {},
   "outputs": [
    {
     "data": {
      "text/plain": [
       "5.11"
      ]
     },
     "execution_count": 147,
     "metadata": {},
     "output_type": "execute_result"
    }
   ],
   "source": [
    "anime_gintama.rating"
   ]
  },
  {
   "cell_type": "code",
   "execution_count": 148,
   "id": "c6fc9bef",
   "metadata": {},
   "outputs": [
    {
     "name": "stdout",
     "output_type": "stream",
     "text": [
      "anime Gintama gain popularity by 453.0\n"
     ]
    }
   ],
   "source": [
    "anime_gintama.pop_countup(100)"
   ]
  },
  {
   "cell_type": "code",
   "execution_count": 149,
   "id": "ad66cab5",
   "metadata": {},
   "outputs": [
    {
     "name": "stdout",
     "output_type": "stream",
     "text": [
      "anime Gintama popularity drop by 393.0\n"
     ]
    }
   ],
   "source": [
    "anime_gintama.pop_countdown(60)"
   ]
  },
  {
   "cell_type": "code",
   "execution_count": 150,
   "id": "d5f008dd",
   "metadata": {},
   "outputs": [
    {
     "data": {
      "text/plain": [
       "393.0"
      ]
     },
     "execution_count": 150,
     "metadata": {},
     "output_type": "execute_result"
    }
   ],
   "source": [
    "anime_gintama.popularity"
   ]
  },
  {
   "cell_type": "code",
   "execution_count": null,
   "id": "46df978e",
   "metadata": {},
   "outputs": [],
   "source": []
  },
  {
   "cell_type": "code",
   "execution_count": 151,
   "id": "210c7f31",
   "metadata": {},
   "outputs": [
    {
     "name": "stdout",
     "output_type": "stream",
     "text": [
      "New series:Haikyuu!! Second Season is released\n"
     ]
    }
   ],
   "source": [
    "anime_haikyuu = anime(\"Haikyuu!! Second Season\",\"Comedy\",\"TV\",\"Manga\",8.87,25.0,25.0)"
   ]
  },
  {
   "cell_type": "code",
   "execution_count": 152,
   "id": "f41c3436",
   "metadata": {},
   "outputs": [
    {
     "name": "stdout",
     "output_type": "stream",
     "text": [
      "This is anime Haikyuu!! Second Season\n",
      "There is total of 4 anime\n"
     ]
    }
   ],
   "source": [
    "anime_haikyuu.total_anime()"
   ]
  },
  {
   "cell_type": "code",
   "execution_count": 153,
   "id": "e5c6b3af",
   "metadata": {},
   "outputs": [
    {
     "name": "stdout",
     "output_type": "stream",
     "text": [
      "anime Haikyuu!! Second Season got new rating by 9.87\n"
     ]
    }
   ],
   "source": [
    "anime_haikyuu.rate_countup(1)"
   ]
  },
  {
   "cell_type": "code",
   "execution_count": 154,
   "id": "e94417b0",
   "metadata": {},
   "outputs": [
    {
     "name": "stdout",
     "output_type": "stream",
     "text": [
      "anime Haikyuu!! Second Season rating drop by 8.87\n"
     ]
    }
   ],
   "source": [
    "anime_haikyuu.rate_countdown(1)"
   ]
  },
  {
   "cell_type": "code",
   "execution_count": 155,
   "id": "6f776512",
   "metadata": {},
   "outputs": [
    {
     "data": {
      "text/plain": [
       "8.87"
      ]
     },
     "execution_count": 155,
     "metadata": {},
     "output_type": "execute_result"
    }
   ],
   "source": [
    "anime_haikyuu.rating"
   ]
  },
  {
   "cell_type": "code",
   "execution_count": 156,
   "id": "15126c08",
   "metadata": {},
   "outputs": [
    {
     "name": "stdout",
     "output_type": "stream",
     "text": [
      "anime Haikyuu!! Second Season gain popularity by 35.0\n"
     ]
    }
   ],
   "source": [
    "anime_haikyuu.pop_countup(10)"
   ]
  },
  {
   "cell_type": "code",
   "execution_count": 157,
   "id": "a4aaa305",
   "metadata": {},
   "outputs": [
    {
     "name": "stdout",
     "output_type": "stream",
     "text": [
      "anime Haikyuu!! Second Season popularity drop by 25.0\n"
     ]
    }
   ],
   "source": [
    "anime_haikyuu.pop_countdown(10)"
   ]
  },
  {
   "cell_type": "code",
   "execution_count": 158,
   "id": "cdce7864",
   "metadata": {},
   "outputs": [
    {
     "data": {
      "text/plain": [
       "25.0"
      ]
     },
     "execution_count": 158,
     "metadata": {},
     "output_type": "execute_result"
    }
   ],
   "source": [
    "anime_haikyuu.popularity"
   ]
  },
  {
   "cell_type": "code",
   "execution_count": null,
   "id": "d7fe50d3",
   "metadata": {},
   "outputs": [],
   "source": []
  },
  {
   "cell_type": "code",
   "execution_count": 159,
   "id": "79618f4e",
   "metadata": {},
   "outputs": [
    {
     "name": "stdout",
     "output_type": "stream",
     "text": [
      "New series:Great Teacher Onizuka is released\n"
     ]
    }
   ],
   "source": [
    "anime_teacher = anime(\"Great Teacher Onizuka\",\"Comedy\",\"TV\",\"Manga\",8.74,163.0,43.0)"
   ]
  },
  {
   "cell_type": "code",
   "execution_count": 160,
   "id": "cc9a2ad4",
   "metadata": {},
   "outputs": [
    {
     "name": "stdout",
     "output_type": "stream",
     "text": [
      "This is anime Great Teacher Onizuka\n",
      "There is total of 5 anime\n"
     ]
    }
   ],
   "source": [
    "anime_teacher.total_anime()"
   ]
  },
  {
   "cell_type": "code",
   "execution_count": 161,
   "id": "7ea6aff1",
   "metadata": {},
   "outputs": [
    {
     "name": "stdout",
     "output_type": "stream",
     "text": [
      "anime Great Teacher Onizuka got new rating by 9.74\n"
     ]
    }
   ],
   "source": [
    "anime_teacher.rate_countup(1)"
   ]
  },
  {
   "cell_type": "code",
   "execution_count": 162,
   "id": "c45f4195",
   "metadata": {},
   "outputs": [
    {
     "name": "stdout",
     "output_type": "stream",
     "text": [
      "anime Great Teacher Onizuka rating drop by 4.74\n"
     ]
    }
   ],
   "source": [
    "anime_teacher.rate_countdown(5)"
   ]
  },
  {
   "cell_type": "code",
   "execution_count": 163,
   "id": "6766b055",
   "metadata": {},
   "outputs": [
    {
     "data": {
      "text/plain": [
       "4.74"
      ]
     },
     "execution_count": 163,
     "metadata": {},
     "output_type": "execute_result"
    }
   ],
   "source": [
    "anime_teacher.rating"
   ]
  },
  {
   "cell_type": "code",
   "execution_count": 164,
   "id": "f807852d",
   "metadata": {},
   "outputs": [
    {
     "name": "stdout",
     "output_type": "stream",
     "text": [
      "anime Great Teacher Onizuka gain popularity by 173.0\n"
     ]
    }
   ],
   "source": [
    "anime_teacher.pop_countup(10)"
   ]
  },
  {
   "cell_type": "code",
   "execution_count": 165,
   "id": "bc74d0c5",
   "metadata": {},
   "outputs": [
    {
     "name": "stdout",
     "output_type": "stream",
     "text": [
      "anime Great Teacher Onizuka popularity drop by 163.0\n"
     ]
    }
   ],
   "source": [
    "anime_teacher.pop_countdown(10)"
   ]
  },
  {
   "cell_type": "code",
   "execution_count": 166,
   "id": "ae25ee60",
   "metadata": {},
   "outputs": [
    {
     "data": {
      "text/plain": [
       "163.0"
      ]
     },
     "execution_count": 166,
     "metadata": {},
     "output_type": "execute_result"
    }
   ],
   "source": [
    "anime_teacher.popularity"
   ]
  },
  {
   "cell_type": "markdown",
   "id": "a48200f2",
   "metadata": {},
   "source": [
    "# Input\n",
    "**Create input to give details anime by putting a title**"
   ]
  },
  {
   "cell_type": "code",
   "execution_count": 168,
   "id": "d3a54413",
   "metadata": {},
   "outputs": [
    {
     "name": "stdout",
     "output_type": "stream",
     "text": [
      "Please enter the title:Gintama\n",
      "For the list of Gintama= Genre: Action, Type: TV, Source: Manga, Rating = 5.11, Popularity of 393.0, with 51.0 episodes\n"
     ]
    }
   ],
   "source": [
    "anime = (\"Ittekimasu\", \"Fullmetal Alchemist: Brotherhood\", \"Gintama\", \"Haikyuu!! Second Season\", \"Great Teacher Onizuka\")\n",
    "\n",
    "# Create while loops\n",
    "# In input, put anime name into input, it will print the details about the anime\n",
    "\n",
    "\"\"\"anime name= Ittekimasu, \n",
    "Fullmetal Alchemist: Brotherhood, \n",
    "Gintama, \n",
    "Haikyuu!! Second Season, \n",
    "Great Teacher Onizuka\n",
    "\"\"\"\n",
    "\n",
    "while True:\n",
    "    \n",
    "    try: # use try and except to show if there is an error in the code. use NameError,IndexError,TypeError\n",
    "        \n",
    "        Title = input(\"Please enter the title:\")\n",
    "        if Title == anime[0]: # if condition list of Anime[] met, break\n",
    "            print(f\"For the list of {anime[0]}= Genre: {anime_ittekimasu.genre}, Type: {anime_ittekimasu.type}, Source: {anime_ittekimasu.source}, Rating = {anime_ittekimasu.rating}, Popularity of {anime_ittekimasu.popularity}, with {anime_ittekimasu.episodes} episodes\") \n",
    "            break\n",
    "\n",
    "        elif Title == anime[1]:\n",
    "            print(f\"For the list of {anime[1]}= Genre: {anime_fullmetal.genre}, Type: {anime_fullmetal.type}, Source: {anime_fullmetal.source}, Rating = {anime_fullmetal.rating}, Popularity of {anime_fullmetal.popularity}, with {anime_fullmetal.episodes} episodes\") \n",
    "            break\n",
    "\n",
    "        elif Title == anime[2]:\n",
    "            print(f\"For the list of {anime[2]}= Genre: {anime_gintama.genre}, Type: {anime_gintama.type}, Source: {anime_gintama.source}, Rating = {anime_gintama.rating}, Popularity of {anime_gintama.popularity}, with {anime_gintama.episodes} episodes\") \n",
    "            break\n",
    "\n",
    "        elif Title == anime[3]:\n",
    "            print(f\"For the list of {anime[3]}= Genre: {anime_haikyuu.genre}, Type: {anime_haikyuu.type}, Source: {anime_haikyuu.source},Rating = {anime_haikyuu.rating}, Popularity of {anime_haikyuu.popularity}, with {anime_haikyuu.episodes} episodes\") \n",
    "            break\n",
    "\n",
    "        elif Title == anime[4]:\n",
    "            print(f\"For the list of {anime[4]}= Genre: {anime_teacher.genre}, Type: {anime_teacher.type}, Source: {anime_teacher.source},Rating = {anime_teacher.rating} ,Popularity of {anime_teacher.popularity}, with {anime_teacher.episodes} episodes\") \n",
    "            break\n",
    "            \n",
    "        else:\n",
    "            print(\"Invalid Title\")\n",
    "\n",
    "    except Exception as e:\n",
    "            print(e)\n",
    "\n",
    "        \n",
    "        "
   ]
  }
 ],
 "metadata": {
  "kernelspec": {
   "display_name": "Python 3",
   "language": "python",
   "name": "python3"
  },
  "language_info": {
   "codemirror_mode": {
    "name": "ipython",
    "version": 3
   },
   "file_extension": ".py",
   "mimetype": "text/x-python",
   "name": "python",
   "nbconvert_exporter": "python",
   "pygments_lexer": "ipython3",
   "version": "3.8.8"
  }
 },
 "nbformat": 4,
 "nbformat_minor": 5
}
